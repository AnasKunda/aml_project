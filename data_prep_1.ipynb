{
 "cells": [
  {
   "cell_type": "markdown",
   "metadata": {},
   "source": [
    "# This is the first step in the project.\n",
    "\n",
    "Motivation: Combine the JSON files: Competitions, Matches, Lineups and Events into four final dataframes.\n",
    "\n",
    "Final Output: Four pickle files each representing one of the four final dataframes."
   ]
  },
  {
   "cell_type": "code",
   "execution_count": 1,
   "metadata": {},
   "outputs": [],
   "source": [
    "# Import required libraries\n",
    "import os\n",
    "import pandas as pd\n",
    "import json\n",
    "from tqdm import tqdm\n",
    "from numpyencoder import NumpyEncoder\n",
    "from utils import merge_JsonFiles, merge_JsonFiles_with_lookup\n",
    "pd.options.mode.chained_assignment = None"
   ]
  },
  {
   "cell_type": "code",
   "execution_count": 2,
   "metadata": {},
   "outputs": [],
   "source": [
    "# File paths\n",
    "ROOT = os.path.join(os.getcwd(), 'Statsbomb_data\\open-data-master')\n",
    "DATA = os.path.join(ROOT, 'data')\n",
    "EVENTS = os.path.join(DATA, 'events')\n",
    "LINEUPS = os.path.join(DATA, 'lineups')\n",
    "MATCHES = os.path.join(DATA, 'matches')\n",
    "THREESIXTY = os.path.join(DATA, 'three-sixty')"
   ]
  },
  {
   "cell_type": "markdown",
   "metadata": {},
   "source": [
    "# Competitions"
   ]
  },
  {
   "cell_type": "code",
   "execution_count": 3,
   "metadata": {},
   "outputs": [
    {
     "data": {
      "text/html": [
       "<div>\n",
       "<style scoped>\n",
       "    .dataframe tbody tr th:only-of-type {\n",
       "        vertical-align: middle;\n",
       "    }\n",
       "\n",
       "    .dataframe tbody tr th {\n",
       "        vertical-align: top;\n",
       "    }\n",
       "\n",
       "    .dataframe thead th {\n",
       "        text-align: right;\n",
       "    }\n",
       "</style>\n",
       "<table border=\"1\" class=\"dataframe\">\n",
       "  <thead>\n",
       "    <tr style=\"text-align: right;\">\n",
       "      <th></th>\n",
       "      <th>competition_id</th>\n",
       "      <th>season_id</th>\n",
       "      <th>country_name</th>\n",
       "      <th>competition_name</th>\n",
       "      <th>competition_gender</th>\n",
       "      <th>competition_youth</th>\n",
       "      <th>competition_international</th>\n",
       "      <th>season_name</th>\n",
       "      <th>match_updated</th>\n",
       "      <th>match_updated_360</th>\n",
       "      <th>match_available_360</th>\n",
       "      <th>match_available</th>\n",
       "    </tr>\n",
       "  </thead>\n",
       "  <tbody>\n",
       "    <tr>\n",
       "      <th>0</th>\n",
       "      <td>9</td>\n",
       "      <td>27</td>\n",
       "      <td>Germany</td>\n",
       "      <td>1. Bundesliga</td>\n",
       "      <td>male</td>\n",
       "      <td>False</td>\n",
       "      <td>False</td>\n",
       "      <td>2015/2016</td>\n",
       "      <td>2023-08-17T23:51:11.837478</td>\n",
       "      <td>None</td>\n",
       "      <td>None</td>\n",
       "      <td>2023-08-17T23:51:11.837478</td>\n",
       "    </tr>\n",
       "    <tr>\n",
       "      <th>1</th>\n",
       "      <td>16</td>\n",
       "      <td>4</td>\n",
       "      <td>Europe</td>\n",
       "      <td>Champions League</td>\n",
       "      <td>male</td>\n",
       "      <td>False</td>\n",
       "      <td>False</td>\n",
       "      <td>2018/2019</td>\n",
       "      <td>2023-03-07T12:20:48.118250</td>\n",
       "      <td>2021-06-13T16:17:31.694</td>\n",
       "      <td>None</td>\n",
       "      <td>2023-03-07T12:20:48.118250</td>\n",
       "    </tr>\n",
       "    <tr>\n",
       "      <th>2</th>\n",
       "      <td>16</td>\n",
       "      <td>1</td>\n",
       "      <td>Europe</td>\n",
       "      <td>Champions League</td>\n",
       "      <td>male</td>\n",
       "      <td>False</td>\n",
       "      <td>False</td>\n",
       "      <td>2017/2018</td>\n",
       "      <td>2021-08-27T11:26:39.802832</td>\n",
       "      <td>2021-06-13T16:17:31.694</td>\n",
       "      <td>None</td>\n",
       "      <td>2021-01-23T21:55:30.425330</td>\n",
       "    </tr>\n",
       "    <tr>\n",
       "      <th>3</th>\n",
       "      <td>16</td>\n",
       "      <td>2</td>\n",
       "      <td>Europe</td>\n",
       "      <td>Champions League</td>\n",
       "      <td>male</td>\n",
       "      <td>False</td>\n",
       "      <td>False</td>\n",
       "      <td>2016/2017</td>\n",
       "      <td>2021-08-27T11:26:39.802832</td>\n",
       "      <td>2021-06-13T16:17:31.694</td>\n",
       "      <td>None</td>\n",
       "      <td>2020-07-29T05:00</td>\n",
       "    </tr>\n",
       "    <tr>\n",
       "      <th>4</th>\n",
       "      <td>16</td>\n",
       "      <td>27</td>\n",
       "      <td>Europe</td>\n",
       "      <td>Champions League</td>\n",
       "      <td>male</td>\n",
       "      <td>False</td>\n",
       "      <td>False</td>\n",
       "      <td>2015/2016</td>\n",
       "      <td>2021-08-27T11:26:39.802832</td>\n",
       "      <td>2021-06-13T16:17:31.694</td>\n",
       "      <td>None</td>\n",
       "      <td>2020-07-29T05:00</td>\n",
       "    </tr>\n",
       "  </tbody>\n",
       "</table>\n",
       "</div>"
      ],
      "text/plain": [
       "   competition_id  season_id country_name  competition_name  \\\n",
       "0               9         27      Germany     1. Bundesliga   \n",
       "1              16          4       Europe  Champions League   \n",
       "2              16          1       Europe  Champions League   \n",
       "3              16          2       Europe  Champions League   \n",
       "4              16         27       Europe  Champions League   \n",
       "\n",
       "  competition_gender  competition_youth  competition_international  \\\n",
       "0               male              False                      False   \n",
       "1               male              False                      False   \n",
       "2               male              False                      False   \n",
       "3               male              False                      False   \n",
       "4               male              False                      False   \n",
       "\n",
       "  season_name               match_updated        match_updated_360  \\\n",
       "0   2015/2016  2023-08-17T23:51:11.837478                     None   \n",
       "1   2018/2019  2023-03-07T12:20:48.118250  2021-06-13T16:17:31.694   \n",
       "2   2017/2018  2021-08-27T11:26:39.802832  2021-06-13T16:17:31.694   \n",
       "3   2016/2017  2021-08-27T11:26:39.802832  2021-06-13T16:17:31.694   \n",
       "4   2015/2016  2021-08-27T11:26:39.802832  2021-06-13T16:17:31.694   \n",
       "\n",
       "  match_available_360             match_available  \n",
       "0                None  2023-08-17T23:51:11.837478  \n",
       "1                None  2023-03-07T12:20:48.118250  \n",
       "2                None  2021-01-23T21:55:30.425330  \n",
       "3                None            2020-07-29T05:00  \n",
       "4                None            2020-07-29T05:00  "
      ]
     },
     "execution_count": 3,
     "metadata": {},
     "output_type": "execute_result"
    }
   ],
   "source": [
    "''' Import competitions JSON file. This file contains competition-level details. '''\n",
    "competitions = pd.read_json(\n",
    "    path_or_buf=os.path.join(DATA, 'competitions.json'),\n",
    "    orient='records'\n",
    ")\n",
    "competitions.head()"
   ]
  },
  {
   "cell_type": "code",
   "execution_count": 4,
   "metadata": {},
   "outputs": [
    {
     "name": "stdout",
     "output_type": "stream",
     "text": [
      "UNIQUE COMPETITIONS:\n",
      "\n"
     ]
    },
    {
     "data": {
      "text/plain": [
       "['1. Bundesliga',\n",
       " 'Champions League',\n",
       " 'Copa del Rey',\n",
       " \"FA Women's Super League\",\n",
       " 'FIFA U20 World Cup',\n",
       " 'FIFA World Cup',\n",
       " 'Indian Super league',\n",
       " 'La Liga',\n",
       " 'Liga Profesional',\n",
       " 'Ligue 1',\n",
       " 'North American League',\n",
       " 'NWSL',\n",
       " 'Premier League',\n",
       " 'Serie A',\n",
       " 'UEFA Euro',\n",
       " 'UEFA Europa League',\n",
       " \"UEFA Women's Euro\",\n",
       " \"Women's World Cup\"]"
      ]
     },
     "execution_count": 4,
     "metadata": {},
     "output_type": "execute_result"
    }
   ],
   "source": [
    "''' First I will identify all competitions contained in data. \n",
    "\n",
    "Variables:-\n",
    "competition - DataFrame - dataframe containing competition data.\n",
    "'''\n",
    "print(\"UNIQUE COMPETITIONS:\\n\")\n",
    "[f'{c}' for c in competitions.competition_name.unique()]"
   ]
  },
  {
   "cell_type": "code",
   "execution_count": 5,
   "metadata": {},
   "outputs": [],
   "source": [
    "''' I have selected top 5 leagues in europe and Champions League data for my project. '''\n",
    "top_5_leagues = ['1. Bundesliga', 'La Liga', 'Premier League', 'Serie A', 'Ligue 1', 'Champions League']"
   ]
  },
  {
   "cell_type": "code",
   "execution_count": 6,
   "metadata": {},
   "outputs": [],
   "source": [
    "''' Filter data to contain above discussed competitions only. \n",
    "\n",
    "Variables:-\n",
    "competitions - DataFrame - dataframe containing competition data\n",
    "top_5_league - List - selected competitions\n",
    "'''\n",
    "competitions_f1 = competitions.loc[competitions.competition_name.isin(top_5_leagues)]\n",
    "competitions_f1.replace(\n",
    "    to_replace='1. Bundesliga',\n",
    "    value='Bundesliga',\n",
    "    inplace=True\n",
    ")"
   ]
  },
  {
   "cell_type": "code",
   "execution_count": 7,
   "metadata": {},
   "outputs": [
    {
     "name": "stdout",
     "output_type": "stream",
     "text": [
      "UNIQUE GENDERS:\n",
      "\n"
     ]
    },
    {
     "data": {
      "text/plain": [
       "['male']"
      ]
     },
     "execution_count": 7,
     "metadata": {},
     "output_type": "execute_result"
    }
   ],
   "source": [
    "''' Verifying the gender of players. I am considering man's soccer for my project. \n",
    "\n",
    "Variables:-\n",
    "competitions_f1 - DataFrame - filtered competition data.\n",
    "'''\n",
    "print(f\"UNIQUE GENDERS:\\n\")\n",
    "[g for g in competitions_f1.competition_gender.unique()]"
   ]
  },
  {
   "cell_type": "code",
   "execution_count": 8,
   "metadata": {},
   "outputs": [
    {
     "name": "stdout",
     "output_type": "stream",
     "text": [
      "UNIQUE COMPETITION YOUTH:\n",
      "\n"
     ]
    },
    {
     "data": {
      "text/plain": [
       "[False]"
      ]
     },
     "execution_count": 8,
     "metadata": {},
     "output_type": "execute_result"
    }
   ],
   "source": [
    "''' Verifying player age group. I am considering adult professionals for my project. \n",
    "\n",
    "Variables:\n",
    "competitions_f1 - DataFrame - filtered competition data.\n",
    "'''\n",
    "print(f\"UNIQUE COMPETITION YOUTH:\\n\")\n",
    "[y for y in competitions_f1.competition_youth.unique()]"
   ]
  },
  {
   "cell_type": "code",
   "execution_count": 9,
   "metadata": {},
   "outputs": [
    {
     "name": "stdout",
     "output_type": "stream",
     "text": [
      "SEASON RANGE:\n",
      "\n"
     ]
    },
    {
     "data": {
      "text/plain": [
       "['2015/2016',\n",
       " '2018/2019',\n",
       " '2017/2018',\n",
       " '2016/2017',\n",
       " '2014/2015',\n",
       " '2013/2014',\n",
       " '2012/2013',\n",
       " '2011/2012',\n",
       " '2010/2011',\n",
       " '2009/2010',\n",
       " '2008/2009',\n",
       " '2006/2007',\n",
       " '2004/2005',\n",
       " '2003/2004',\n",
       " '1999/2000',\n",
       " '1972/1973',\n",
       " '1971/1972',\n",
       " '1970/1971',\n",
       " '2020/2021',\n",
       " '2019/2020',\n",
       " '2007/2008',\n",
       " '2005/2006',\n",
       " '1973/1974',\n",
       " '1986/1987']"
      ]
     },
     "execution_count": 9,
     "metadata": {},
     "output_type": "execute_result"
    }
   ],
   "source": [
    "''' Seasons contained the data. \n",
    "\n",
    "Variables:\n",
    "competitions_f1 - DataFrame - filtered competition data.\n",
    "'''\n",
    "print(f\"SEASON RANGE:\\n\")\n",
    "[season for season in competitions_f1.season_name.unique()]"
   ]
  },
  {
   "cell_type": "code",
   "execution_count": 10,
   "metadata": {},
   "outputs": [],
   "source": [
    "''' I have considered the latest 5 seasons for the project. From 2016-17 to 2020-21. \n",
    "\n",
    "Variables:-\n",
    "competitions_f1 - DataFrame - filtered competition data.\n",
    "'''\n",
    "last_5_seasons = ['2020/2021', '2019/2020', '2018/2019', '2017/2018', '2016/2017']\n",
    "competitions_f2 = competitions_f1.loc[competitions_f1.season_name.isin(last_5_seasons)]"
   ]
  },
  {
   "cell_type": "code",
   "execution_count": 11,
   "metadata": {},
   "outputs": [
    {
     "data": {
      "text/plain": [
       "(8, 12)"
      ]
     },
     "execution_count": 11,
     "metadata": {},
     "output_type": "execute_result"
    }
   ],
   "source": [
    "''' Checking the number of rows in the last 5 seasons.\n",
    "\n",
    "Varibles:-\n",
    "competitions_f2 - DataFrame - filtered competition and season data.\n",
    "'''\n",
    "competitions_f2.shape"
   ]
  },
  {
   "cell_type": "markdown",
   "metadata": {},
   "source": [
    "We only have 8 rows left, which means that not all competitions have recent 5 year's data available.\n",
    "\n",
    "Let's see which competitions have latest data."
   ]
  },
  {
   "cell_type": "code",
   "execution_count": 12,
   "metadata": {},
   "outputs": [
    {
     "name": "stdout",
     "output_type": "stream",
     "text": [
      "COMPETITIONS THAT HAVE LAST 5 YEARS' DATA:\n",
      "\n"
     ]
    },
    {
     "data": {
      "text/plain": [
       "['Champions League', 'La Liga']"
      ]
     },
     "execution_count": 12,
     "metadata": {},
     "output_type": "execute_result"
    }
   ],
   "source": [
    "''' Checking which competitions have recent 5 season's data. \n",
    "\n",
    "Variables:-\n",
    "competitions_f2 - DataFrame - filtered competition and season data.\n",
    "'''\n",
    "print(f\"COMPETITIONS THAT HAVE LAST 5 YEARS' DATA:\\n\")\n",
    "[c for c in competitions_f2.competition_name.unique()]"
   ]
  },
  {
   "cell_type": "code",
   "execution_count": 13,
   "metadata": {},
   "outputs": [
    {
     "name": "stdout",
     "output_type": "stream",
     "text": [
      "CHAMPIONS LEAGUE SEASONS:\n",
      "\n",
      "1    2018/2019\n",
      "2    2017/2018\n",
      "3    2016/2017\n",
      "Name: season_name, dtype: object\n",
      "LA LIGA SEASONS:\n",
      "\n",
      "35    2020/2021\n",
      "36    2019/2020\n",
      "37    2018/2019\n",
      "38    2017/2018\n",
      "39    2016/2017\n",
      "Name: season_name, dtype: object\n"
     ]
    }
   ],
   "source": [
    "''' Checking La Liga and Champion's league seasons available in the data.\n",
    "\n",
    "Variables:-\n",
    "competitions_f2 - DataFrame - filtered competition and season data.\n",
    "'''\n",
    "print(f\"CHAMPIONS LEAGUE SEASONS:\\n\")\n",
    "print(competitions_f2.loc[competitions_f2.competition_name=='Champions League'].season_name)\n",
    "print(f\"LA LIGA SEASONS:\\n\")\n",
    "print(competitions_f2.loc[competitions_f2.competition_name=='La Liga'].season_name)"
   ]
  },
  {
   "cell_type": "markdown",
   "metadata": {},
   "source": [
    "### Final competitions data\n",
    "\n",
    "The last 5 seasons of top 5 leaagues and champions league yields very less data. \n",
    "\n",
    "Hence, I have decided to go with La Liga and Champions league with all their seasons."
   ]
  },
  {
   "cell_type": "markdown",
   "metadata": {},
   "source": [
    "# Matches"
   ]
  },
  {
   "cell_type": "markdown",
   "metadata": {},
   "source": [
    "The matches folder is categorized by competition ids, containing json files for a full list of matches.\n",
    "\n",
    "Matches\n",
    "\n",
    "    --- comp_id_1\n",
    "\n",
    "        --- match_id_1.json\n",
    "\n",
    "        --- match_id_2.json\n",
    "\n",
    "        --- match_id_3.json\n",
    "\n",
    "        --- ...\n",
    "\n",
    "    --- comp_id_2\n",
    "\n",
    "        --- match_id_20.json\n",
    "\n",
    "        --- match_id_21.json\n",
    "\n",
    "        --- ...\n",
    "        \n",
    "    --- ..."
   ]
  },
  {
   "cell_type": "code",
   "execution_count": 14,
   "metadata": {},
   "outputs": [
    {
     "name": "stdout",
     "output_type": "stream",
     "text": [
      "Competition ids from filtered competitions dataframe:\n",
      "\n"
     ]
    },
    {
     "data": {
      "text/plain": [
       "[16, 11]"
      ]
     },
     "execution_count": 14,
     "metadata": {},
     "output_type": "execute_result"
    }
   ],
   "source": [
    "''' Fetching the competition ids of selected competitions.\n",
    "\n",
    "Variables:-\n",
    "competitions_f2 - DataFrame - filtered competition and season data.\n",
    "'''\n",
    "print(f\"Competition ids from filtered competitions dataframe:\\n\")\n",
    "[i for i in competitions_f2.competition_id.unique()]"
   ]
  },
  {
   "cell_type": "code",
   "execution_count": 15,
   "metadata": {},
   "outputs": [],
   "source": [
    "''' Merge all JSON files of each competition. Save the merged file in the respective competition's folder.\n",
    "\n",
    "Variables:-\n",
    "MATCHES - string - filepath to all match folders\n",
    "selected_competitions - List - selected competitions' ids\n",
    "root - string - filepath to store each competition's merged file\n",
    "filenames - list - list of all json files to be merged\n",
    "output - string - a competition's final json file is stored as {comp_id}_all.json\n",
    "'''\n",
    "selected_competitions = ['16','11']\n",
    "for c in selected_competitions:\n",
    "    root = os.path.join(MATCHES, c)\n",
    "    filenames = os.listdir(root)\n",
    "    output = os.path.join(MATCHES, f'{c}_all.json')\n",
    "    merge_JsonFiles(\n",
    "        root=root,\n",
    "        input_files=filenames,\n",
    "        output_file=output\n",
    "    )"
   ]
  },
  {
   "cell_type": "code",
   "execution_count": 17,
   "metadata": {},
   "outputs": [],
   "source": [
    "''' In previous cell, I created a merged file for each competition. Now I am merging those files to create a final file.\n",
    "\n",
    "Variables:-\n",
    "MATCHES - string - filepath to all match folders\n",
    "selected_competitions - List - selected competitions' ids\n",
    "'''\n",
    "merge_JsonFiles(\n",
    "    root=MATCHES,\n",
    "    input_files=[f'{c}_all.json' for c in selected_competitions],\n",
    "    output_file=os.path.join(MATCHES, 'matches_final.json')\n",
    ")"
   ]
  },
  {
   "cell_type": "code",
   "execution_count": 20,
   "metadata": {},
   "outputs": [
    {
     "data": {
      "text/html": [
       "<div>\n",
       "<style scoped>\n",
       "    .dataframe tbody tr th:only-of-type {\n",
       "        vertical-align: middle;\n",
       "    }\n",
       "\n",
       "    .dataframe tbody tr th {\n",
       "        vertical-align: top;\n",
       "    }\n",
       "\n",
       "    .dataframe thead th {\n",
       "        text-align: right;\n",
       "    }\n",
       "</style>\n",
       "<table border=\"1\" class=\"dataframe\">\n",
       "  <thead>\n",
       "    <tr style=\"text-align: right;\">\n",
       "      <th></th>\n",
       "      <th>match_id</th>\n",
       "      <th>match_date</th>\n",
       "      <th>kick_off</th>\n",
       "      <th>competition</th>\n",
       "      <th>season</th>\n",
       "      <th>home_team</th>\n",
       "      <th>away_team</th>\n",
       "      <th>home_score</th>\n",
       "      <th>away_score</th>\n",
       "      <th>match_status</th>\n",
       "      <th>match_status_360</th>\n",
       "      <th>last_updated</th>\n",
       "      <th>last_updated_360</th>\n",
       "      <th>metadata</th>\n",
       "      <th>match_week</th>\n",
       "      <th>competition_stage</th>\n",
       "      <th>stadium</th>\n",
       "      <th>referee</th>\n",
       "    </tr>\n",
       "  </thead>\n",
       "  <tbody>\n",
       "    <tr>\n",
       "      <th>0</th>\n",
       "      <td>18245</td>\n",
       "      <td>2018-05-26</td>\n",
       "      <td>20:45:00.000</td>\n",
       "      <td>{'competition_id': 16, 'country_name': 'Europe...</td>\n",
       "      <td>{'season_id': 1, 'season_name': '2017/2018'}</td>\n",
       "      <td>{'home_team_id': 220, 'home_team_name': 'Real ...</td>\n",
       "      <td>{'away_team_id': 24, 'away_team_name': 'Liverp...</td>\n",
       "      <td>3</td>\n",
       "      <td>1</td>\n",
       "      <td>available</td>\n",
       "      <td>scheduled</td>\n",
       "      <td>2021-01-23T21:55:30.425330</td>\n",
       "      <td>2021-06-13T16:17:31.694</td>\n",
       "      <td>{'data_version': '1.1.0', 'shot_fidelity_versi...</td>\n",
       "      <td>7</td>\n",
       "      <td>{'id': 26, 'name': 'Final'}</td>\n",
       "      <td>{'id': 4222, 'name': 'NSK Olimpiyskyi', 'count...</td>\n",
       "      <td>{'id': 727, 'name': 'Milorad Mažić', 'country'...</td>\n",
       "    </tr>\n",
       "    <tr>\n",
       "      <th>1</th>\n",
       "      <td>18245</td>\n",
       "      <td>2018-05-26</td>\n",
       "      <td>20:45:00.000</td>\n",
       "      <td>{'competition_id': 16, 'country_name': 'Europe...</td>\n",
       "      <td>{'season_id': 1, 'season_name': '2017/2018'}</td>\n",
       "      <td>{'home_team_id': 220, 'home_team_name': 'Real ...</td>\n",
       "      <td>{'away_team_id': 24, 'away_team_name': 'Liverp...</td>\n",
       "      <td>3</td>\n",
       "      <td>1</td>\n",
       "      <td>available</td>\n",
       "      <td>scheduled</td>\n",
       "      <td>2021-01-23T21:55:30.425330</td>\n",
       "      <td>2021-06-13T16:17:31.694</td>\n",
       "      <td>{'data_version': '1.1.0', 'shot_fidelity_versi...</td>\n",
       "      <td>7</td>\n",
       "      <td>{'id': 26, 'name': 'Final'}</td>\n",
       "      <td>{'id': 4222, 'name': 'NSK Olimpiyskyi', 'count...</td>\n",
       "      <td>{'id': 727, 'name': 'Milorad Mažić', 'country'...</td>\n",
       "    </tr>\n",
       "  </tbody>\n",
       "</table>\n",
       "</div>"
      ],
      "text/plain": [
       "   match_id  match_date      kick_off  \\\n",
       "0     18245  2018-05-26  20:45:00.000   \n",
       "1     18245  2018-05-26  20:45:00.000   \n",
       "\n",
       "                                         competition  \\\n",
       "0  {'competition_id': 16, 'country_name': 'Europe...   \n",
       "1  {'competition_id': 16, 'country_name': 'Europe...   \n",
       "\n",
       "                                         season  \\\n",
       "0  {'season_id': 1, 'season_name': '2017/2018'}   \n",
       "1  {'season_id': 1, 'season_name': '2017/2018'}   \n",
       "\n",
       "                                           home_team  \\\n",
       "0  {'home_team_id': 220, 'home_team_name': 'Real ...   \n",
       "1  {'home_team_id': 220, 'home_team_name': 'Real ...   \n",
       "\n",
       "                                           away_team  home_score  away_score  \\\n",
       "0  {'away_team_id': 24, 'away_team_name': 'Liverp...           3           1   \n",
       "1  {'away_team_id': 24, 'away_team_name': 'Liverp...           3           1   \n",
       "\n",
       "  match_status match_status_360                last_updated  \\\n",
       "0    available        scheduled  2021-01-23T21:55:30.425330   \n",
       "1    available        scheduled  2021-01-23T21:55:30.425330   \n",
       "\n",
       "          last_updated_360                                           metadata  \\\n",
       "0  2021-06-13T16:17:31.694  {'data_version': '1.1.0', 'shot_fidelity_versi...   \n",
       "1  2021-06-13T16:17:31.694  {'data_version': '1.1.0', 'shot_fidelity_versi...   \n",
       "\n",
       "   match_week            competition_stage  \\\n",
       "0           7  {'id': 26, 'name': 'Final'}   \n",
       "1           7  {'id': 26, 'name': 'Final'}   \n",
       "\n",
       "                                             stadium  \\\n",
       "0  {'id': 4222, 'name': 'NSK Olimpiyskyi', 'count...   \n",
       "1  {'id': 4222, 'name': 'NSK Olimpiyskyi', 'count...   \n",
       "\n",
       "                                             referee  \n",
       "0  {'id': 727, 'name': 'Milorad Mažić', 'country'...  \n",
       "1  {'id': 727, 'name': 'Milorad Mažić', 'country'...  "
      ]
     },
     "execution_count": 20,
     "metadata": {},
     "output_type": "execute_result"
    }
   ],
   "source": [
    "''' Load the final merged file into a dataframe.\n",
    "\n",
    "Variables:-\n",
    "MATCHES - string - filepath to all match folders\n",
    "'''\n",
    "matches_df = pd.read_json(\n",
    "    path_or_buf=os.path.join(MATCHES,'matches_final.json')\n",
    ")\n",
    "matches_df.head(2)"
   ]
  },
  {
   "cell_type": "code",
   "execution_count": 21,
   "metadata": {},
   "outputs": [],
   "source": [
    "''' Dropping unnecessary columns from dataframe.\n",
    "\n",
    "Variables:-\n",
    "matches_df - DataFrame - match data\n",
    "'''\n",
    "matches_df.drop(columns=['kick_off','match_status', 'match_status_360', 'last_updated', 'last_updated_360', 'metadata', 'stadium', 'referee'], inplace=True)"
   ]
  },
  {
   "cell_type": "code",
   "execution_count": 37,
   "metadata": {},
   "outputs": [],
   "source": [
    "''' Removing duplicate rows of match ids.\n",
    "\n",
    "Variables:-\n",
    "matches_df - DataFrame - match data\n",
    "'''\n",
    "matches_df.drop_duplicates(subset=['match_id'], inplace=True)"
   ]
  },
  {
   "cell_type": "code",
   "execution_count": 38,
   "metadata": {},
   "outputs": [
    {
     "data": {
      "text/plain": [
       "(885, 12)"
      ]
     },
     "execution_count": 38,
     "metadata": {},
     "output_type": "execute_result"
    }
   ],
   "source": [
    "''' Number of matches in match data is 885.\n",
    "\n",
    "Variables:-\n",
    "matches_df - DataFrame - match data\n",
    "'''\n",
    "matches_df.shape"
   ]
  },
  {
   "cell_type": "code",
   "execution_count": 24,
   "metadata": {},
   "outputs": [],
   "source": [
    "''' Extracting competition id and season id from their respective dictionaries and storing them in seperate columns.\n",
    "\n",
    "Variables:-\n",
    "matches_df - DataFrame - match data\n",
    "'''\n",
    "matches_df['competition_id'] = matches_df['competition'].str['competition_id']\n",
    "matches_df['season_id'] = matches_df['season'].str['season_id']"
   ]
  },
  {
   "cell_type": "markdown",
   "metadata": {},
   "source": [
    "### Matches final data\n",
    "\n",
    "Match level data of all seasons of La Liga and Champions League is combined.\n",
    "\n",
    "There are in total 885 matches."
   ]
  },
  {
   "cell_type": "markdown",
   "metadata": {},
   "source": [
    "# Lineups"
   ]
  },
  {
   "cell_type": "code",
   "execution_count": 39,
   "metadata": {},
   "outputs": [],
   "source": [
    "''' Get all unique match ids from match dataframe.\n",
    "\n",
    "Variables:-\n",
    "matches_df - DataFrame - match data\n",
    "'''\n",
    "match_ids = matches_df.match_id.unique()"
   ]
  },
  {
   "cell_type": "code",
   "execution_count": 40,
   "metadata": {},
   "outputs": [
    {
     "name": "stderr",
     "output_type": "stream",
     "text": [
      "100%|██████████| 3200/3200 [00:02<00:00, 1271.58it/s]\n"
     ]
    }
   ],
   "source": [
    "''' Create a dictionary of all lineup files. This will make the merging of lineup files faster \n",
    "\n",
    "Variables:-\n",
    "LINEUPS - string - path to all lineup folders\n",
    "'''\n",
    "lineups_dict = {}\n",
    "for l in tqdm(os.listdir(LINEUPS)):\n",
    "    with open(os.path.join(LINEUPS,l), 'r', encoding=\"utf8\") as l_file:\n",
    "        lineups_dict[l] = json.load(l_file)"
   ]
  },
  {
   "cell_type": "code",
   "execution_count": 41,
   "metadata": {},
   "outputs": [],
   "source": [
    "''' Merge all lineup files.\n",
    "\n",
    "Variables:-\n",
    "LINEUPS - string - path to all lineup folders\n",
    "match_ids - Series - unique match ids\n",
    "lineups_dict - dict - mapping of all json filenames and their respective content.\n",
    "'''\n",
    "\n",
    "merge_JsonFiles_with_lookup(\n",
    "    lookup_ids=match_ids,\n",
    "    output_file=os.path.join(LINEUPS,'lineups_final.json'),\n",
    "    lookup_dict = lineups_dict\n",
    ")"
   ]
  },
  {
   "cell_type": "code",
   "execution_count": 42,
   "metadata": {},
   "outputs": [
    {
     "data": {
      "text/html": [
       "<div>\n",
       "<style scoped>\n",
       "    .dataframe tbody tr th:only-of-type {\n",
       "        vertical-align: middle;\n",
       "    }\n",
       "\n",
       "    .dataframe tbody tr th {\n",
       "        vertical-align: top;\n",
       "    }\n",
       "\n",
       "    .dataframe thead th {\n",
       "        text-align: right;\n",
       "    }\n",
       "</style>\n",
       "<table border=\"1\" class=\"dataframe\">\n",
       "  <thead>\n",
       "    <tr style=\"text-align: right;\">\n",
       "      <th></th>\n",
       "      <th>team_id</th>\n",
       "      <th>team_name</th>\n",
       "      <th>lineup</th>\n",
       "      <th>match_id</th>\n",
       "    </tr>\n",
       "  </thead>\n",
       "  <tbody>\n",
       "    <tr>\n",
       "      <th>0</th>\n",
       "      <td>24</td>\n",
       "      <td>Liverpool</td>\n",
       "      <td>[{'player_id': 3471, 'player_name': 'Dejan Lov...</td>\n",
       "      <td>18245</td>\n",
       "    </tr>\n",
       "    <tr>\n",
       "      <th>1</th>\n",
       "      <td>220</td>\n",
       "      <td>Real Madrid</td>\n",
       "      <td>[{'player_id': 4926, 'player_name': 'Francisco...</td>\n",
       "      <td>18245</td>\n",
       "    </tr>\n",
       "    <tr>\n",
       "      <th>2</th>\n",
       "      <td>220</td>\n",
       "      <td>Real Madrid</td>\n",
       "      <td>[{'player_id': 3063, 'player_name': 'Danilo Lu...</td>\n",
       "      <td>18244</td>\n",
       "    </tr>\n",
       "    <tr>\n",
       "      <th>3</th>\n",
       "      <td>224</td>\n",
       "      <td>Juventus</td>\n",
       "      <td>[{'player_id': 3951, 'player_name': 'Mario Lem...</td>\n",
       "      <td>18244</td>\n",
       "    </tr>\n",
       "    <tr>\n",
       "      <th>4</th>\n",
       "      <td>238</td>\n",
       "      <td>Inter Milan</td>\n",
       "      <td>[{'player_id': 3371, 'player_name': 'Mario Bar...</td>\n",
       "      <td>18235</td>\n",
       "    </tr>\n",
       "  </tbody>\n",
       "</table>\n",
       "</div>"
      ],
      "text/plain": [
       "   team_id    team_name                                             lineup  \\\n",
       "0       24    Liverpool  [{'player_id': 3471, 'player_name': 'Dejan Lov...   \n",
       "1      220  Real Madrid  [{'player_id': 4926, 'player_name': 'Francisco...   \n",
       "2      220  Real Madrid  [{'player_id': 3063, 'player_name': 'Danilo Lu...   \n",
       "3      224     Juventus  [{'player_id': 3951, 'player_name': 'Mario Lem...   \n",
       "4      238  Inter Milan  [{'player_id': 3371, 'player_name': 'Mario Bar...   \n",
       "\n",
       "   match_id  \n",
       "0     18245  \n",
       "1     18245  \n",
       "2     18244  \n",
       "3     18244  \n",
       "4     18235  "
      ]
     },
     "execution_count": 42,
     "metadata": {},
     "output_type": "execute_result"
    }
   ],
   "source": [
    "''' load the consolidated lineup data in a dataframe.\n",
    "\n",
    "Variables:-\n",
    "LINEUPS - string - path to all lineup folders\n",
    "'''\n",
    "lineups_df = pd.read_json(\n",
    "    path_or_buf=os.path.join(LINEUPS,'lineups_final.json')\n",
    ")\n",
    "lineups_df.head()"
   ]
  },
  {
   "cell_type": "code",
   "execution_count": 43,
   "metadata": {},
   "outputs": [
    {
     "data": {
      "text/plain": [
       "(1770, 4)"
      ]
     },
     "execution_count": 43,
     "metadata": {},
     "output_type": "execute_result"
    }
   ],
   "source": [
    "lineups_df.shape"
   ]
  },
  {
   "cell_type": "markdown",
   "metadata": {},
   "source": [
    "### Lineups final data\n",
    "\n",
    "Each match contains two sets of lineups. One for home team and one for away team.\n",
    "\n",
    "Lineups data has 1770 rows, which is exactly double than the number of matches."
   ]
  },
  {
   "cell_type": "markdown",
   "metadata": {},
   "source": [
    "# Events"
   ]
  },
  {
   "cell_type": "code",
   "execution_count": 44,
   "metadata": {},
   "outputs": [
    {
     "name": "stderr",
     "output_type": "stream",
     "text": [
      "100%|██████████| 885/885 [01:19<00:00, 11.09it/s]\n"
     ]
    }
   ],
   "source": [
    "''' Combining all json files of events data. There are various events like pass, intercept, dribble, etc, but the event named 'Shot' is considered only. \n",
    "\n",
    "Variables:-\n",
    "match_ids - Series - unique match ids\n",
    "EVENTS - string - file path to all events data\n",
    "'''\n",
    "\n",
    "final_json = []\n",
    "\n",
    "for match_id in tqdm(match_ids):\n",
    "    with open(os.path.join(EVENTS,f'{match_id}.json'), 'r', encoding=\"utf8\") as f:\n",
    "        loaded_json = json.load(f)\n",
    "        for i in range(len(loaded_json)):\n",
    "            if loaded_json[i]['type']['name'] == 'Shot':\n",
    "                loaded_json[i]['match_id'] = match_id\n",
    "                final_json.extend([loaded_json[i]])\n"
   ]
  },
  {
   "cell_type": "code",
   "execution_count": 47,
   "metadata": {},
   "outputs": [
    {
     "data": {
      "text/html": [
       "<div>\n",
       "<style scoped>\n",
       "    .dataframe tbody tr th:only-of-type {\n",
       "        vertical-align: middle;\n",
       "    }\n",
       "\n",
       "    .dataframe tbody tr th {\n",
       "        vertical-align: top;\n",
       "    }\n",
       "\n",
       "    .dataframe thead th {\n",
       "        text-align: right;\n",
       "    }\n",
       "</style>\n",
       "<table border=\"1\" class=\"dataframe\">\n",
       "  <thead>\n",
       "    <tr style=\"text-align: right;\">\n",
       "      <th></th>\n",
       "      <th>id</th>\n",
       "      <th>index</th>\n",
       "      <th>period</th>\n",
       "      <th>timestamp</th>\n",
       "      <th>minute</th>\n",
       "      <th>second</th>\n",
       "      <th>type</th>\n",
       "      <th>possession</th>\n",
       "      <th>possession_team</th>\n",
       "      <th>play_pattern</th>\n",
       "      <th>...</th>\n",
       "      <th>player</th>\n",
       "      <th>position</th>\n",
       "      <th>location</th>\n",
       "      <th>duration</th>\n",
       "      <th>related_events</th>\n",
       "      <th>shot</th>\n",
       "      <th>match_id</th>\n",
       "      <th>under_pressure</th>\n",
       "      <th>out</th>\n",
       "      <th>off_camera</th>\n",
       "    </tr>\n",
       "  </thead>\n",
       "  <tbody>\n",
       "    <tr>\n",
       "      <th>0</th>\n",
       "      <td>682270cc-4bc4-4952-8f91-d3c5a704a691</td>\n",
       "      <td>153</td>\n",
       "      <td>1</td>\n",
       "      <td>00:02:33.865</td>\n",
       "      <td>2</td>\n",
       "      <td>33</td>\n",
       "      <td>{'id': 16, 'name': 'Shot'}</td>\n",
       "      <td>7</td>\n",
       "      <td>{'id': 24, 'name': 'Liverpool'}</td>\n",
       "      <td>{'id': 4, 'name': 'From Throw In'}</td>\n",
       "      <td>...</td>\n",
       "      <td>{'id': 3567, 'name': 'Georginio Wijnaldum'}</td>\n",
       "      <td>{'id': 13, 'name': 'Right Center Midfield'}</td>\n",
       "      <td>[98.1, 52.1]</td>\n",
       "      <td>0.134619</td>\n",
       "      <td>[5df2374f-5956-4ae5-a855-769c3d9bd8e9, 91c0ba0...</td>\n",
       "      <td>{'statsbomb_xg': 0.03639871, 'end_location': [...</td>\n",
       "      <td>18245</td>\n",
       "      <td>NaN</td>\n",
       "      <td>NaN</td>\n",
       "      <td>NaN</td>\n",
       "    </tr>\n",
       "    <tr>\n",
       "      <th>1</th>\n",
       "      <td>9f5aa3eb-3bed-4bc0-97a5-bb8444b235b9</td>\n",
       "      <td>245</td>\n",
       "      <td>1</td>\n",
       "      <td>00:05:14.065</td>\n",
       "      <td>5</td>\n",
       "      <td>14</td>\n",
       "      <td>{'id': 16, 'name': 'Shot'}</td>\n",
       "      <td>13</td>\n",
       "      <td>{'id': 24, 'name': 'Liverpool'}</td>\n",
       "      <td>{'id': 3, 'name': 'From Free Kick'}</td>\n",
       "      <td>...</td>\n",
       "      <td>{'id': 3531, 'name': 'Mohamed Salah'}</td>\n",
       "      <td>{'id': 17, 'name': 'Right Wing'}</td>\n",
       "      <td>[96.6, 51.5]</td>\n",
       "      <td>0.092997</td>\n",
       "      <td>[0801d693-6cd2-4565-b9f7-8e57215326dc, 4cc5f82...</td>\n",
       "      <td>{'statsbomb_xg': 0.027975515, 'end_location': ...</td>\n",
       "      <td>18245</td>\n",
       "      <td>True</td>\n",
       "      <td>NaN</td>\n",
       "      <td>NaN</td>\n",
       "    </tr>\n",
       "    <tr>\n",
       "      <th>2</th>\n",
       "      <td>399ac143-5f7b-4080-8c0b-3c18435d7fc1</td>\n",
       "      <td>398</td>\n",
       "      <td>1</td>\n",
       "      <td>00:07:56.816</td>\n",
       "      <td>7</td>\n",
       "      <td>56</td>\n",
       "      <td>{'id': 16, 'name': 'Shot'}</td>\n",
       "      <td>19</td>\n",
       "      <td>{'id': 24, 'name': 'Liverpool'}</td>\n",
       "      <td>{'id': 1, 'name': 'Regular Play'}</td>\n",
       "      <td>...</td>\n",
       "      <td>{'id': 3535, 'name': 'Roberto Firmino Barbosa ...</td>\n",
       "      <td>{'id': 23, 'name': 'Center Forward'}</td>\n",
       "      <td>[112.1, 30.6]</td>\n",
       "      <td>1.006248</td>\n",
       "      <td>[0ed95d27-7799-4809-94be-14b2af0e8199]</td>\n",
       "      <td>{'statsbomb_xg': 0.07536108, 'end_location': [...</td>\n",
       "      <td>18245</td>\n",
       "      <td>NaN</td>\n",
       "      <td>NaN</td>\n",
       "      <td>NaN</td>\n",
       "    </tr>\n",
       "    <tr>\n",
       "      <th>3</th>\n",
       "      <td>660d9d98-46b6-4b5e-9c9a-435d63142c93</td>\n",
       "      <td>467</td>\n",
       "      <td>1</td>\n",
       "      <td>00:10:02.932</td>\n",
       "      <td>10</td>\n",
       "      <td>2</td>\n",
       "      <td>{'id': 16, 'name': 'Shot'}</td>\n",
       "      <td>24</td>\n",
       "      <td>{'id': 220, 'name': 'Real Madrid'}</td>\n",
       "      <td>{'id': 3, 'name': 'From Free Kick'}</td>\n",
       "      <td>...</td>\n",
       "      <td>{'id': 5552, 'name': 'Marcelo Vieira da Silva ...</td>\n",
       "      <td>{'id': 6, 'name': 'Left Back'}</td>\n",
       "      <td>[94.5, 26.9]</td>\n",
       "      <td>1.301567</td>\n",
       "      <td>[9eee50d1-2956-4bd5-9417-4faa3cdcfec6]</td>\n",
       "      <td>{'statsbomb_xg': 0.023375953, 'end_location': ...</td>\n",
       "      <td>18245</td>\n",
       "      <td>NaN</td>\n",
       "      <td>NaN</td>\n",
       "      <td>NaN</td>\n",
       "    </tr>\n",
       "    <tr>\n",
       "      <th>4</th>\n",
       "      <td>fe6c7f60-2ff0-4077-882e-b045c8abc7c3</td>\n",
       "      <td>628</td>\n",
       "      <td>1</td>\n",
       "      <td>00:13:02.999</td>\n",
       "      <td>13</td>\n",
       "      <td>2</td>\n",
       "      <td>{'id': 16, 'name': 'Shot'}</td>\n",
       "      <td>28</td>\n",
       "      <td>{'id': 24, 'name': 'Liverpool'}</td>\n",
       "      <td>{'id': 3, 'name': 'From Free Kick'}</td>\n",
       "      <td>...</td>\n",
       "      <td>{'id': 3473, 'name': 'James Philip Milner'}</td>\n",
       "      <td>{'id': 15, 'name': 'Left Center Midfield'}</td>\n",
       "      <td>[101.2, 30.6]</td>\n",
       "      <td>0.054247</td>\n",
       "      <td>[62488dda-14cf-4155-90c2-a4231a54de32, 70c57f0...</td>\n",
       "      <td>{'statsbomb_xg': 0.0437719, 'end_location': [1...</td>\n",
       "      <td>18245</td>\n",
       "      <td>NaN</td>\n",
       "      <td>NaN</td>\n",
       "      <td>NaN</td>\n",
       "    </tr>\n",
       "  </tbody>\n",
       "</table>\n",
       "<p>5 rows × 21 columns</p>\n",
       "</div>"
      ],
      "text/plain": [
       "                                     id  index  period     timestamp  minute  \\\n",
       "0  682270cc-4bc4-4952-8f91-d3c5a704a691    153       1  00:02:33.865       2   \n",
       "1  9f5aa3eb-3bed-4bc0-97a5-bb8444b235b9    245       1  00:05:14.065       5   \n",
       "2  399ac143-5f7b-4080-8c0b-3c18435d7fc1    398       1  00:07:56.816       7   \n",
       "3  660d9d98-46b6-4b5e-9c9a-435d63142c93    467       1  00:10:02.932      10   \n",
       "4  fe6c7f60-2ff0-4077-882e-b045c8abc7c3    628       1  00:13:02.999      13   \n",
       "\n",
       "   second                        type  possession  \\\n",
       "0      33  {'id': 16, 'name': 'Shot'}           7   \n",
       "1      14  {'id': 16, 'name': 'Shot'}          13   \n",
       "2      56  {'id': 16, 'name': 'Shot'}          19   \n",
       "3       2  {'id': 16, 'name': 'Shot'}          24   \n",
       "4       2  {'id': 16, 'name': 'Shot'}          28   \n",
       "\n",
       "                      possession_team                         play_pattern  \\\n",
       "0     {'id': 24, 'name': 'Liverpool'}   {'id': 4, 'name': 'From Throw In'}   \n",
       "1     {'id': 24, 'name': 'Liverpool'}  {'id': 3, 'name': 'From Free Kick'}   \n",
       "2     {'id': 24, 'name': 'Liverpool'}    {'id': 1, 'name': 'Regular Play'}   \n",
       "3  {'id': 220, 'name': 'Real Madrid'}  {'id': 3, 'name': 'From Free Kick'}   \n",
       "4     {'id': 24, 'name': 'Liverpool'}  {'id': 3, 'name': 'From Free Kick'}   \n",
       "\n",
       "   ...                                             player  \\\n",
       "0  ...        {'id': 3567, 'name': 'Georginio Wijnaldum'}   \n",
       "1  ...              {'id': 3531, 'name': 'Mohamed Salah'}   \n",
       "2  ...  {'id': 3535, 'name': 'Roberto Firmino Barbosa ...   \n",
       "3  ...  {'id': 5552, 'name': 'Marcelo Vieira da Silva ...   \n",
       "4  ...        {'id': 3473, 'name': 'James Philip Milner'}   \n",
       "\n",
       "                                      position       location  duration  \\\n",
       "0  {'id': 13, 'name': 'Right Center Midfield'}   [98.1, 52.1]  0.134619   \n",
       "1             {'id': 17, 'name': 'Right Wing'}   [96.6, 51.5]  0.092997   \n",
       "2         {'id': 23, 'name': 'Center Forward'}  [112.1, 30.6]  1.006248   \n",
       "3               {'id': 6, 'name': 'Left Back'}   [94.5, 26.9]  1.301567   \n",
       "4   {'id': 15, 'name': 'Left Center Midfield'}  [101.2, 30.6]  0.054247   \n",
       "\n",
       "                                      related_events  \\\n",
       "0  [5df2374f-5956-4ae5-a855-769c3d9bd8e9, 91c0ba0...   \n",
       "1  [0801d693-6cd2-4565-b9f7-8e57215326dc, 4cc5f82...   \n",
       "2             [0ed95d27-7799-4809-94be-14b2af0e8199]   \n",
       "3             [9eee50d1-2956-4bd5-9417-4faa3cdcfec6]   \n",
       "4  [62488dda-14cf-4155-90c2-a4231a54de32, 70c57f0...   \n",
       "\n",
       "                                                shot match_id  under_pressure  \\\n",
       "0  {'statsbomb_xg': 0.03639871, 'end_location': [...    18245             NaN   \n",
       "1  {'statsbomb_xg': 0.027975515, 'end_location': ...    18245            True   \n",
       "2  {'statsbomb_xg': 0.07536108, 'end_location': [...    18245             NaN   \n",
       "3  {'statsbomb_xg': 0.023375953, 'end_location': ...    18245             NaN   \n",
       "4  {'statsbomb_xg': 0.0437719, 'end_location': [1...    18245             NaN   \n",
       "\n",
       "   out off_camera  \n",
       "0  NaN        NaN  \n",
       "1  NaN        NaN  \n",
       "2  NaN        NaN  \n",
       "3  NaN        NaN  \n",
       "4  NaN        NaN  \n",
       "\n",
       "[5 rows x 21 columns]"
      ]
     },
     "execution_count": 47,
     "metadata": {},
     "output_type": "execute_result"
    }
   ],
   "source": [
    "''' loading all events data in a dataframe.\n",
    "\n",
    "Variables:-\n",
    "final_json - list - list of all events json file contents\n",
    "'''\n",
    "\n",
    "events_df = pd.DataFrame.from_dict(\n",
    "    final_json\n",
    ")\n",
    "events_df.head()"
   ]
  },
  {
   "cell_type": "code",
   "execution_count": 46,
   "metadata": {},
   "outputs": [
    {
     "data": {
      "text/plain": [
       "(21777, 21)"
      ]
     },
     "execution_count": 46,
     "metadata": {},
     "output_type": "execute_result"
    }
   ],
   "source": [
    "''' There are 21777 events in total. \n",
    "\n",
    "Variables:-\n",
    "events_df - DataFrame - events dataframe.\n",
    "'''\n",
    "events_df.shape"
   ]
  },
  {
   "cell_type": "markdown",
   "metadata": {},
   "source": [
    "### Events final data\n",
    "\n",
    "A dataframe of all events occurred in 885 matches. Each row represents a particular event happend in a particular match.\n",
    "\n",
    "There are a total of 21777 events."
   ]
  },
  {
   "cell_type": "markdown",
   "metadata": {},
   "source": [
    "# Export all dataframes"
   ]
  },
  {
   "cell_type": "markdown",
   "metadata": {},
   "source": [
    "All dataframes are exported to pickle file. The reason of choosing pickle over csv is that columns having dictionaries are converted to string if we export to csv, Whereas in pickle, the columns containing dictionaries maintain the dict type. Resulting in dict after loading the pickle file again. This is very helpful."
   ]
  },
  {
   "cell_type": "code",
   "execution_count": 48,
   "metadata": {},
   "outputs": [],
   "source": [
    "FINAL_DF = os.path.join(ROOT,'final_dataframes')\n",
    "competitions_f2.to_pickle(os.path.join(FINAL_DF, 'competitions.pkl'))\n",
    "matches_df.to_pickle(os.path.join(FINAL_DF, 'matches.pkl'))\n",
    "lineups_df.to_pickle(os.path.join(FINAL_DF, 'lineups.pkl'))\n",
    "events_df.to_pickle(os.path.join(FINAL_DF, 'events.pkl'))"
   ]
  }
 ],
 "metadata": {
  "kernelspec": {
   "display_name": "Python 3",
   "language": "python",
   "name": "python3"
  },
  "language_info": {
   "codemirror_mode": {
    "name": "ipython",
    "version": 3
   },
   "file_extension": ".py",
   "mimetype": "text/x-python",
   "name": "python",
   "nbconvert_exporter": "python",
   "pygments_lexer": "ipython3",
   "version": "3.9.13"
  }
 },
 "nbformat": 4,
 "nbformat_minor": 2
}
