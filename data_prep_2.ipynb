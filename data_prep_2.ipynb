{
 "cells": [
  {
   "cell_type": "code",
   "execution_count": 1,
   "metadata": {},
   "outputs": [],
   "source": [
    "import os\n",
    "import pandas as pd\n",
    "import json\n",
    "import numpy as np"
   ]
  },
  {
   "cell_type": "code",
   "execution_count": 2,
   "metadata": {},
   "outputs": [],
   "source": [
    "ROOT = os.path.join(os.getcwd(), 'Statsbomb_data\\open-data-master')\n",
    "DATA = os.path.join(ROOT, 'data')\n",
    "FINAL_DF = os.path.join(ROOT,'final_dataframes')"
   ]
  },
  {
   "cell_type": "markdown",
   "metadata": {},
   "source": [
    "# Import all dataframes"
   ]
  },
  {
   "cell_type": "code",
   "execution_count": 3,
   "metadata": {},
   "outputs": [],
   "source": [
    "events_df = pd.read_pickle(\n",
    "    filepath_or_buffer=os.path.join(FINAL_DF,'events.pkl')\n",
    ")"
   ]
  },
  {
   "cell_type": "code",
   "execution_count": 4,
   "metadata": {},
   "outputs": [
    {
     "data": {
      "text/html": [
       "<div>\n",
       "<style scoped>\n",
       "    .dataframe tbody tr th:only-of-type {\n",
       "        vertical-align: middle;\n",
       "    }\n",
       "\n",
       "    .dataframe tbody tr th {\n",
       "        vertical-align: top;\n",
       "    }\n",
       "\n",
       "    .dataframe thead th {\n",
       "        text-align: right;\n",
       "    }\n",
       "</style>\n",
       "<table border=\"1\" class=\"dataframe\">\n",
       "  <thead>\n",
       "    <tr style=\"text-align: right;\">\n",
       "      <th></th>\n",
       "      <th>id</th>\n",
       "      <th>index</th>\n",
       "      <th>period</th>\n",
       "      <th>timestamp</th>\n",
       "      <th>minute</th>\n",
       "      <th>second</th>\n",
       "      <th>type</th>\n",
       "      <th>possession</th>\n",
       "      <th>possession_team</th>\n",
       "      <th>play_pattern</th>\n",
       "      <th>...</th>\n",
       "      <th>player</th>\n",
       "      <th>position</th>\n",
       "      <th>location</th>\n",
       "      <th>duration</th>\n",
       "      <th>related_events</th>\n",
       "      <th>shot</th>\n",
       "      <th>match_id</th>\n",
       "      <th>under_pressure</th>\n",
       "      <th>out</th>\n",
       "      <th>off_camera</th>\n",
       "    </tr>\n",
       "  </thead>\n",
       "  <tbody>\n",
       "    <tr>\n",
       "      <th>0</th>\n",
       "      <td>2258c11c-0916-4976-bfde-a66e89ffeb8d</td>\n",
       "      <td>191</td>\n",
       "      <td>1</td>\n",
       "      <td>00:03:31.114</td>\n",
       "      <td>3</td>\n",
       "      <td>31</td>\n",
       "      <td>{'id': 16, 'name': 'Shot'}</td>\n",
       "      <td>10</td>\n",
       "      <td>{'id': 207, 'name': 'Valencia'}</td>\n",
       "      <td>{'id': 4, 'name': 'From Throw In'}</td>\n",
       "      <td>...</td>\n",
       "      <td>{'id': 4367, 'name': 'Gonçalo Manuel Ganchinho...</td>\n",
       "      <td>{'id': 16, 'name': 'Left Midfield'}</td>\n",
       "      <td>[101.0, 21.3]</td>\n",
       "      <td>1.020612</td>\n",
       "      <td>[12f35fe0-b936-439e-8087-0777a7dc8a38]</td>\n",
       "      <td>{'statsbomb_xg': 0.008752456, 'end_location': ...</td>\n",
       "      <td>9880</td>\n",
       "      <td>NaN</td>\n",
       "      <td>NaN</td>\n",
       "      <td>NaN</td>\n",
       "    </tr>\n",
       "    <tr>\n",
       "      <th>1</th>\n",
       "      <td>f0be7ddf-1e01-4315-aee1-8d5fda52a739</td>\n",
       "      <td>383</td>\n",
       "      <td>1</td>\n",
       "      <td>00:07:02.539</td>\n",
       "      <td>7</td>\n",
       "      <td>2</td>\n",
       "      <td>{'id': 16, 'name': 'Shot'}</td>\n",
       "      <td>14</td>\n",
       "      <td>{'id': 207, 'name': 'Valencia'}</td>\n",
       "      <td>{'id': 3, 'name': 'From Free Kick'}</td>\n",
       "      <td>...</td>\n",
       "      <td>{'id': 6594, 'name': 'Santiago Mina Lorenzo'}</td>\n",
       "      <td>{'id': 24, 'name': 'Left Center Forward'}</td>\n",
       "      <td>[103.9, 28.4]</td>\n",
       "      <td>0.127392</td>\n",
       "      <td>[0638e39d-d8b2-4364-805e-109a33238e0f, 55518d2...</td>\n",
       "      <td>{'statsbomb_xg': 0.05391455, 'end_location': [...</td>\n",
       "      <td>9880</td>\n",
       "      <td>NaN</td>\n",
       "      <td>NaN</td>\n",
       "      <td>NaN</td>\n",
       "    </tr>\n",
       "    <tr>\n",
       "      <th>2</th>\n",
       "      <td>bb173d27-76c4-4044-b883-8bd6f8450cf2</td>\n",
       "      <td>654</td>\n",
       "      <td>1</td>\n",
       "      <td>00:13:21.294</td>\n",
       "      <td>13</td>\n",
       "      <td>21</td>\n",
       "      <td>{'id': 16, 'name': 'Shot'}</td>\n",
       "      <td>25</td>\n",
       "      <td>{'id': 217, 'name': 'Barcelona'}</td>\n",
       "      <td>{'id': 4, 'name': 'From Throw In'}</td>\n",
       "      <td>...</td>\n",
       "      <td>{'id': 5211, 'name': 'Jordi Alba Ramos'}</td>\n",
       "      <td>{'id': 6, 'name': 'Left Back'}</td>\n",
       "      <td>[112.5, 26.0]</td>\n",
       "      <td>0.263821</td>\n",
       "      <td>[6c0ad8df-aad9-4e24-aaa9-3a27d8736dfd]</td>\n",
       "      <td>{'statsbomb_xg': 0.08084221, 'end_location': [...</td>\n",
       "      <td>9880</td>\n",
       "      <td>NaN</td>\n",
       "      <td>NaN</td>\n",
       "      <td>NaN</td>\n",
       "    </tr>\n",
       "    <tr>\n",
       "      <th>3</th>\n",
       "      <td>7b02c827-3580-4149-9912-216ce2bd544f</td>\n",
       "      <td>700</td>\n",
       "      <td>1</td>\n",
       "      <td>00:14:07.045</td>\n",
       "      <td>14</td>\n",
       "      <td>7</td>\n",
       "      <td>{'id': 16, 'name': 'Shot'}</td>\n",
       "      <td>26</td>\n",
       "      <td>{'id': 217, 'name': 'Barcelona'}</td>\n",
       "      <td>{'id': 4, 'name': 'From Throw In'}</td>\n",
       "      <td>...</td>\n",
       "      <td>{'id': 5246, 'name': 'Luis Alberto Suárez Díaz'}</td>\n",
       "      <td>{'id': 24, 'name': 'Left Center Forward'}</td>\n",
       "      <td>[113.2, 46.0]</td>\n",
       "      <td>0.336449</td>\n",
       "      <td>[ac01843e-3a1a-41de-8090-5cd3e311806f]</td>\n",
       "      <td>{'statsbomb_xg': 0.45647225, 'end_location': [...</td>\n",
       "      <td>9880</td>\n",
       "      <td>NaN</td>\n",
       "      <td>NaN</td>\n",
       "      <td>NaN</td>\n",
       "    </tr>\n",
       "    <tr>\n",
       "      <th>4</th>\n",
       "      <td>3b15d864-8738-4cb1-8275-f94277570223</td>\n",
       "      <td>837</td>\n",
       "      <td>1</td>\n",
       "      <td>00:17:27.953</td>\n",
       "      <td>17</td>\n",
       "      <td>27</td>\n",
       "      <td>{'id': 16, 'name': 'Shot'}</td>\n",
       "      <td>31</td>\n",
       "      <td>{'id': 207, 'name': 'Valencia'}</td>\n",
       "      <td>{'id': 1, 'name': 'Regular Play'}</td>\n",
       "      <td>...</td>\n",
       "      <td>{'id': 4367, 'name': 'Gonçalo Manuel Ganchinho...</td>\n",
       "      <td>{'id': 16, 'name': 'Left Midfield'}</td>\n",
       "      <td>[92.8, 32.9]</td>\n",
       "      <td>0.155997</td>\n",
       "      <td>[2a4a1d74-f213-4ac3-b223-12b8507019c4, e29e5ae...</td>\n",
       "      <td>{'statsbomb_xg': 0.025283428, 'end_location': ...</td>\n",
       "      <td>9880</td>\n",
       "      <td>NaN</td>\n",
       "      <td>NaN</td>\n",
       "      <td>NaN</td>\n",
       "    </tr>\n",
       "  </tbody>\n",
       "</table>\n",
       "<p>5 rows × 21 columns</p>\n",
       "</div>"
      ],
      "text/plain": [
       "                                     id  index  period     timestamp  minute  \\\n",
       "0  2258c11c-0916-4976-bfde-a66e89ffeb8d    191       1  00:03:31.114       3   \n",
       "1  f0be7ddf-1e01-4315-aee1-8d5fda52a739    383       1  00:07:02.539       7   \n",
       "2  bb173d27-76c4-4044-b883-8bd6f8450cf2    654       1  00:13:21.294      13   \n",
       "3  7b02c827-3580-4149-9912-216ce2bd544f    700       1  00:14:07.045      14   \n",
       "4  3b15d864-8738-4cb1-8275-f94277570223    837       1  00:17:27.953      17   \n",
       "\n",
       "   second                        type  possession  \\\n",
       "0      31  {'id': 16, 'name': 'Shot'}          10   \n",
       "1       2  {'id': 16, 'name': 'Shot'}          14   \n",
       "2      21  {'id': 16, 'name': 'Shot'}          25   \n",
       "3       7  {'id': 16, 'name': 'Shot'}          26   \n",
       "4      27  {'id': 16, 'name': 'Shot'}          31   \n",
       "\n",
       "                    possession_team                         play_pattern  ...  \\\n",
       "0   {'id': 207, 'name': 'Valencia'}   {'id': 4, 'name': 'From Throw In'}  ...   \n",
       "1   {'id': 207, 'name': 'Valencia'}  {'id': 3, 'name': 'From Free Kick'}  ...   \n",
       "2  {'id': 217, 'name': 'Barcelona'}   {'id': 4, 'name': 'From Throw In'}  ...   \n",
       "3  {'id': 217, 'name': 'Barcelona'}   {'id': 4, 'name': 'From Throw In'}  ...   \n",
       "4   {'id': 207, 'name': 'Valencia'}    {'id': 1, 'name': 'Regular Play'}  ...   \n",
       "\n",
       "                                              player  \\\n",
       "0  {'id': 4367, 'name': 'Gonçalo Manuel Ganchinho...   \n",
       "1      {'id': 6594, 'name': 'Santiago Mina Lorenzo'}   \n",
       "2           {'id': 5211, 'name': 'Jordi Alba Ramos'}   \n",
       "3   {'id': 5246, 'name': 'Luis Alberto Suárez Díaz'}   \n",
       "4  {'id': 4367, 'name': 'Gonçalo Manuel Ganchinho...   \n",
       "\n",
       "                                    position       location  duration  \\\n",
       "0        {'id': 16, 'name': 'Left Midfield'}  [101.0, 21.3]  1.020612   \n",
       "1  {'id': 24, 'name': 'Left Center Forward'}  [103.9, 28.4]  0.127392   \n",
       "2             {'id': 6, 'name': 'Left Back'}  [112.5, 26.0]  0.263821   \n",
       "3  {'id': 24, 'name': 'Left Center Forward'}  [113.2, 46.0]  0.336449   \n",
       "4        {'id': 16, 'name': 'Left Midfield'}   [92.8, 32.9]  0.155997   \n",
       "\n",
       "                                      related_events  \\\n",
       "0             [12f35fe0-b936-439e-8087-0777a7dc8a38]   \n",
       "1  [0638e39d-d8b2-4364-805e-109a33238e0f, 55518d2...   \n",
       "2             [6c0ad8df-aad9-4e24-aaa9-3a27d8736dfd]   \n",
       "3             [ac01843e-3a1a-41de-8090-5cd3e311806f]   \n",
       "4  [2a4a1d74-f213-4ac3-b223-12b8507019c4, e29e5ae...   \n",
       "\n",
       "                                                shot match_id  under_pressure  \\\n",
       "0  {'statsbomb_xg': 0.008752456, 'end_location': ...     9880             NaN   \n",
       "1  {'statsbomb_xg': 0.05391455, 'end_location': [...     9880             NaN   \n",
       "2  {'statsbomb_xg': 0.08084221, 'end_location': [...     9880             NaN   \n",
       "3  {'statsbomb_xg': 0.45647225, 'end_location': [...     9880             NaN   \n",
       "4  {'statsbomb_xg': 0.025283428, 'end_location': ...     9880             NaN   \n",
       "\n",
       "   out off_camera  \n",
       "0  NaN        NaN  \n",
       "1  NaN        NaN  \n",
       "2  NaN        NaN  \n",
       "3  NaN        NaN  \n",
       "4  NaN        NaN  \n",
       "\n",
       "[5 rows x 21 columns]"
      ]
     },
     "execution_count": 4,
     "metadata": {},
     "output_type": "execute_result"
    }
   ],
   "source": [
    "events_df.head()"
   ]
  },
  {
   "cell_type": "code",
   "execution_count": 5,
   "metadata": {},
   "outputs": [
    {
     "data": {
      "text/plain": [
       "Index(['id', 'index', 'period', 'timestamp', 'minute', 'second', 'type',\n",
       "       'possession', 'possession_team', 'play_pattern', 'team', 'player',\n",
       "       'position', 'location', 'duration', 'related_events', 'shot',\n",
       "       'match_id', 'under_pressure', 'out', 'off_camera'],\n",
       "      dtype='object')"
      ]
     },
     "execution_count": 5,
     "metadata": {},
     "output_type": "execute_result"
    }
   ],
   "source": [
    "events_df.columns"
   ]
  },
  {
   "cell_type": "code",
   "execution_count": 6,
   "metadata": {},
   "outputs": [
    {
     "data": {
      "text/plain": [
       "0        Gonçalo Manuel Ganchinho Guedes\n",
       "1                  Santiago Mina Lorenzo\n",
       "2                       Jordi Alba Ramos\n",
       "3               Luis Alberto Suárez Díaz\n",
       "4        Gonçalo Manuel Ganchinho Guedes\n",
       "                      ...               \n",
       "21772                        Sjaak Swart\n",
       "21773                      Gerrie Mühren\n",
       "21774                 Roberto Boninsegna\n",
       "21775                   Gianfranco Bedin\n",
       "21776                       Johan Cruyff\n",
       "Name: player, Length: 21777, dtype: object"
      ]
     },
     "execution_count": 6,
     "metadata": {},
     "output_type": "execute_result"
    }
   ],
   "source": [
    "events_df['player'].str['name']"
   ]
  },
  {
   "cell_type": "code",
   "execution_count": 7,
   "metadata": {},
   "outputs": [],
   "source": [
    "final_df = pd.DataFrame()"
   ]
  },
  {
   "cell_type": "code",
   "execution_count": 30,
   "metadata": {},
   "outputs": [],
   "source": [
    "final_df['event_id'] = events_df['id']"
   ]
  },
  {
   "cell_type": "code",
   "execution_count": 31,
   "metadata": {},
   "outputs": [],
   "source": [
    "final_df['player'] = events_df['player'].str['name']"
   ]
  },
  {
   "cell_type": "code",
   "execution_count": 32,
   "metadata": {},
   "outputs": [
    {
     "data": {
      "text/plain": [
       "{'statsbomb_xg': 0.008752456,\n",
       " 'end_location': [117.0, 39.7, 1.6],\n",
       " 'key_pass_id': '430b01dd-eb13-4bf5-8df1-ecd0b76155a0',\n",
       " 'body_part': {'id': 40, 'name': 'Right Foot'},\n",
       " 'type': {'id': 87, 'name': 'Open Play'},\n",
       " 'outcome': {'id': 100, 'name': 'Saved'},\n",
       " 'technique': {'id': 93, 'name': 'Normal'},\n",
       " 'freeze_frame': [{'location': [95.6, 35.8],\n",
       "   'player': {'id': 5216, 'name': 'Andrés Iniesta Luján'},\n",
       "   'position': {'id': 16, 'name': 'Left Midfield'},\n",
       "   'teammate': False},\n",
       "  {'location': [104.3, 45.4],\n",
       "   'player': {'id': 5211, 'name': 'Jordi Alba Ramos'},\n",
       "   'position': {'id': 6, 'name': 'Left Back'},\n",
       "   'teammate': False},\n",
       "  {'location': [98.5, 27.9],\n",
       "   'player': {'id': 5542, 'name': 'José Paulo Bezzera Maciel Júnior'},\n",
       "   'position': {'id': 11, 'name': 'Left Defensive Midfield'},\n",
       "   'teammate': False},\n",
       "  {'location': [106.2, 41.7],\n",
       "   'player': {'id': 5492, 'name': 'Samuel Yves Umtiti'},\n",
       "   'position': {'id': 5, 'name': 'Left Center Back'},\n",
       "   'teammate': False},\n",
       "  {'location': [98.7, 18.8],\n",
       "   'player': {'id': 5203, 'name': 'Sergio Busquets i Burgos'},\n",
       "   'position': {'id': 9, 'name': 'Right Defensive Midfield'},\n",
       "   'teammate': False},\n",
       "  {'location': [103.0, 23.1],\n",
       "   'player': {'id': 5213, 'name': 'Gerard Piqué Bernabéu'},\n",
       "   'position': {'id': 3, 'name': 'Right Center Back'},\n",
       "   'teammate': False},\n",
       "  {'location': [104.0, 15.9],\n",
       "   'player': {'id': 6379, 'name': 'Sergi Roberto Carnicer'},\n",
       "   'position': {'id': 2, 'name': 'Right Back'},\n",
       "   'teammate': False},\n",
       "  {'location': [106.0, 14.9],\n",
       "   'player': {'id': 3501, 'name': 'Philippe Coutinho Correia'},\n",
       "   'position': {'id': 12, 'name': 'Right Midfield'},\n",
       "   'teammate': False},\n",
       "  {'location': [117.4, 37.4],\n",
       "   'player': {'id': 20055, 'name': 'Marc-André ter Stegen'},\n",
       "   'position': {'id': 1, 'name': 'Goalkeeper'},\n",
       "   'teammate': False},\n",
       "  {'location': [95.8, 9.5],\n",
       "   'player': {'id': 6594, 'name': 'Santiago Mina Lorenzo'},\n",
       "   'position': {'id': 24, 'name': 'Left Center Forward'},\n",
       "   'teammate': True},\n",
       "  {'location': [105.4, 9.5],\n",
       "   'player': {'id': 6596, 'name': 'José Luis Gayà Peña'},\n",
       "   'position': {'id': 6, 'name': 'Left Back'},\n",
       "   'teammate': True},\n",
       "  {'location': [88.1, 31.6],\n",
       "   'player': {'id': 6589, 'name': 'Geoffrey Kondogbia'},\n",
       "   'position': {'id': 11, 'name': 'Left Defensive Midfield'},\n",
       "   'teammate': True},\n",
       "  {'location': [89.2, 17.1],\n",
       "   'player': {'id': 6595, 'name': 'Daniel Parejo Muñoz'},\n",
       "   'position': {'id': 9, 'name': 'Right Defensive Midfield'},\n",
       "   'teammate': True},\n",
       "  {'location': [103.2, 40.7],\n",
       "   'player': {'id': 5718, 'name': 'Rodrigo Moreno Machado'},\n",
       "   'position': {'id': 22, 'name': 'Right Center Forward'},\n",
       "   'teammate': True}]}"
      ]
     },
     "execution_count": 32,
     "metadata": {},
     "output_type": "execute_result"
    }
   ],
   "source": [
    "events_df['shot'].iloc[0]"
   ]
  },
  {
   "cell_type": "code",
   "execution_count": 33,
   "metadata": {},
   "outputs": [
    {
     "name": "stdout",
     "output_type": "stream",
     "text": [
      "UNIQUE SHOT TYPES:\n",
      "\n"
     ]
    },
    {
     "data": {
      "text/plain": [
       "['Open Play', 'Free Kick', 'Penalty', 'Corner']"
      ]
     },
     "execution_count": 33,
     "metadata": {},
     "output_type": "execute_result"
    }
   ],
   "source": [
    "print(f\"UNIQUE SHOT TYPES:\\n\")\n",
    "[t for t in events_df['shot'].str['type'].str['name'].unique()]"
   ]
  },
  {
   "cell_type": "code",
   "execution_count": 34,
   "metadata": {},
   "outputs": [
    {
     "name": "stdout",
     "output_type": "stream",
     "text": [
      "UNIQUE SHOT TECHNIQUES:\n",
      "\n"
     ]
    },
    {
     "data": {
      "text/plain": [
       "['Normal',\n",
       " 'Half Volley',\n",
       " 'Volley',\n",
       " 'Lob',\n",
       " 'Overhead Kick',\n",
       " 'Backheel',\n",
       " 'Diving Header']"
      ]
     },
     "execution_count": 34,
     "metadata": {},
     "output_type": "execute_result"
    }
   ],
   "source": [
    "print(f\"UNIQUE SHOT TECHNIQUES:\\n\")\n",
    "[t for t in events_df['shot'].str['technique'].str['name'].unique()]"
   ]
  },
  {
   "cell_type": "code",
   "execution_count": 35,
   "metadata": {},
   "outputs": [
    {
     "name": "stdout",
     "output_type": "stream",
     "text": [
      "UNIQUE FIRST TIME:\n",
      "\n"
     ]
    },
    {
     "data": {
      "text/plain": [
       "[None, True]"
      ]
     },
     "execution_count": 35,
     "metadata": {},
     "output_type": "execute_result"
    }
   ],
   "source": [
    "print(f\"UNIQUE FIRST TIME:\\n\")\n",
    "[ft for ft in events_df['shot'].str['first_time'].unique()]"
   ]
  },
  {
   "cell_type": "code",
   "execution_count": 36,
   "metadata": {},
   "outputs": [],
   "source": [
    "final_df['first_touch']=events_df['shot'].str['first_time'].fillna(False)"
   ]
  },
  {
   "cell_type": "code",
   "execution_count": 37,
   "metadata": {},
   "outputs": [],
   "source": [
    "final_df['open_goal']=events_df['shot'].str['open_goal'].fillna(False)"
   ]
  },
  {
   "cell_type": "code",
   "execution_count": 38,
   "metadata": {},
   "outputs": [],
   "source": [
    "final_df['under_pressure']=events_df['under_pressure'].fillna(False)"
   ]
  },
  {
   "cell_type": "code",
   "execution_count": 39,
   "metadata": {},
   "outputs": [],
   "source": [
    "final_df['shot_technique']=events_df['shot'].str['technique'].str['name']"
   ]
  },
  {
   "cell_type": "code",
   "execution_count": 40,
   "metadata": {},
   "outputs": [],
   "source": [
    "final_df['shot_body_part']=events_df['shot'].str['body_part'].str['name']"
   ]
  },
  {
   "cell_type": "code",
   "execution_count": 41,
   "metadata": {},
   "outputs": [],
   "source": [
    "final_df['statsbomb_xg']=events_df['shot'].str['statsbomb_xg']"
   ]
  },
  {
   "cell_type": "code",
   "execution_count": 42,
   "metadata": {},
   "outputs": [
    {
     "name": "stdout",
     "output_type": "stream",
     "text": [
      "UNIQUE SHOT OUTCOMES:\n",
      "\n"
     ]
    },
    {
     "data": {
      "text/plain": [
       "array(['Saved', 'Blocked', 'Goal', 'Off T', 'Saved to Post', 'Wayward',\n",
       "       'Post', 'Saved Off Target'], dtype=object)"
      ]
     },
     "execution_count": 42,
     "metadata": {},
     "output_type": "execute_result"
    }
   ],
   "source": [
    "print(f\"UNIQUE SHOT OUTCOMES:\\n\")\n",
    "events_df['shot'].str['outcome'].str['name'].unique()"
   ]
  },
  {
   "cell_type": "code",
   "execution_count": 43,
   "metadata": {},
   "outputs": [],
   "source": [
    "goal_mapping = {}\n",
    "for outcome in events_df['shot'].str['outcome'].str['name'].unique():\n",
    "    if outcome=='Goal':\n",
    "        goal_mapping[outcome] = True\n",
    "    else:\n",
    "        goal_mapping[outcome] = False"
   ]
  },
  {
   "cell_type": "code",
   "execution_count": 44,
   "metadata": {},
   "outputs": [],
   "source": [
    "final_df['goal'] = events_df['shot'].str['outcome'].str['name'].map(goal_mapping)"
   ]
  },
  {
   "cell_type": "markdown",
   "metadata": {},
   "source": [
    "# Feature Engineering: Aerial Shot"
   ]
  },
  {
   "cell_type": "code",
   "execution_count": 45,
   "metadata": {},
   "outputs": [],
   "source": [
    "final_df['aerial_shot'] = np.where(events_df['shot'].str['end_location'].str[-1] > 0, True, False)"
   ]
  },
  {
   "cell_type": "markdown",
   "metadata": {},
   "source": [
    "# Feature Engineering: Shot From Play"
   ]
  },
  {
   "cell_type": "code",
   "execution_count": 46,
   "metadata": {},
   "outputs": [
    {
     "name": "stdout",
     "output_type": "stream",
     "text": [
      "UNIQUE PLAY PATTERNS:\n",
      "\n"
     ]
    },
    {
     "data": {
      "text/plain": [
       "['From Throw In',\n",
       " 'From Free Kick',\n",
       " 'Regular Play',\n",
       " 'From Goal Kick',\n",
       " 'From Corner',\n",
       " 'From Counter',\n",
       " 'Other',\n",
       " 'From Keeper',\n",
       " 'From Kick Off']"
      ]
     },
     "execution_count": 46,
     "metadata": {},
     "output_type": "execute_result"
    }
   ],
   "source": [
    "print(\"UNIQUE PLAY PATTERNS:\\n\")\n",
    "[p for p in events_df.play_pattern.str['name'].unique()]"
   ]
  },
  {
   "cell_type": "code",
   "execution_count": 47,
   "metadata": {},
   "outputs": [],
   "source": [
    "from_play = events_df['play_pattern'].str['name'].str.partition('From ').drop(labels=1,axis=1)"
   ]
  },
  {
   "cell_type": "code",
   "execution_count": 48,
   "metadata": {},
   "outputs": [],
   "source": [
    "final_df['from_play'] = from_play.iloc[:,0] + from_play.iloc[:,1]"
   ]
  },
  {
   "cell_type": "markdown",
   "metadata": {},
   "source": [
    "# Feature Engineering: 1v1"
   ]
  },
  {
   "cell_type": "code",
   "execution_count": 49,
   "metadata": {},
   "outputs": [
    {
     "data": {
      "text/plain": [
       "977      {'one_on_one': True, 'statsbomb_xg': 0.4080663...\n",
       "1576     {'one_on_one': True, 'statsbomb_xg': 0.2270729...\n",
       "2233     {'one_on_one': True, 'statsbomb_xg': 0.4190064...\n",
       "2630     {'statsbomb_xg': 0.39014345, 'end_location': [...\n",
       "2889     {'one_on_one': True, 'statsbomb_xg': 0.1947110...\n",
       "3464     {'one_on_one': True, 'statsbomb_xg': 0.582562,...\n",
       "3709     {'one_on_one': True, 'statsbomb_xg': 0.2030425...\n",
       "4122     {'one_on_one': True, 'statsbomb_xg': 0.2980843...\n",
       "4369     {'statsbomb_xg': 0.32798257, 'end_location': [...\n",
       "5260     {'statsbomb_xg': 0.07794873, 'end_location': [...\n",
       "5306     {'statsbomb_xg': 0.21040301, 'end_location': [...\n",
       "8234     {'statsbomb_xg': 0.8307186, 'end_location': [1...\n",
       "8236     {'statsbomb_xg': 0.4306883, 'end_location': [1...\n",
       "10139    {'one_on_one': True, 'statsbomb_xg': 0.1960764...\n",
       "11638    {'statsbomb_xg': 0.24962631, 'end_location': [...\n",
       "15803    {'one_on_one': True, 'statsbomb_xg': 0.402625,...\n",
       "15959    {'statsbomb_xg': 0.05502605, 'end_location': [...\n",
       "16273    {'one_on_one': True, 'statsbomb_xg': 0.4525860...\n",
       "16587    {'one_on_one': True, 'statsbomb_xg': 0.3218382...\n",
       "16911    {'one_on_one': True, 'statsbomb_xg': 0.2036802...\n",
       "16958    {'one_on_one': True, 'statsbomb_xg': 0.4756820...\n",
       "18148    {'statsbomb_xg': 0.08926737, 'end_location': [...\n",
       "18230    {'statsbomb_xg': 0.026674112, 'end_location': ...\n",
       "18302    {'one_on_one': True, 'statsbomb_xg': 0.0193277...\n",
       "18720    {'statsbomb_xg': 0.03488194, 'end_location': [...\n",
       "18735    {'one_on_one': True, 'statsbomb_xg': 0.0864909...\n",
       "18848    {'statsbomb_xg': 0.01633304, 'end_location': [...\n",
       "19122    {'one_on_one': True, 'statsbomb_xg': 0.3821551...\n",
       "19275    {'statsbomb_xg': 0.05249584, 'end_location': [...\n",
       "19296    {'statsbomb_xg': 0.044685062, 'end_location': ...\n",
       "21598    {'statsbomb_xg': 0.13717578, 'end_location': [...\n",
       "21600    {'statsbomb_xg': 0.31475943, 'end_location': [...\n",
       "Name: shot, dtype: object"
      ]
     },
     "execution_count": 49,
     "metadata": {},
     "output_type": "execute_result"
    }
   ],
   "source": [
    "events_df.loc[events_df['shot'].str['freeze_frame'].str.len()==2,'shot']"
   ]
  },
  {
   "cell_type": "code",
   "execution_count": 50,
   "metadata": {},
   "outputs": [],
   "source": [
    "final_df['one_v_one']=events_df['shot'].str['one_on_one'].fillna(False)"
   ]
  },
  {
   "cell_type": "code",
   "execution_count": 51,
   "metadata": {},
   "outputs": [
    {
     "data": {
      "text/html": [
       "<div>\n",
       "<style scoped>\n",
       "    .dataframe tbody tr th:only-of-type {\n",
       "        vertical-align: middle;\n",
       "    }\n",
       "\n",
       "    .dataframe tbody tr th {\n",
       "        vertical-align: top;\n",
       "    }\n",
       "\n",
       "    .dataframe thead th {\n",
       "        text-align: right;\n",
       "    }\n",
       "</style>\n",
       "<table border=\"1\" class=\"dataframe\">\n",
       "  <thead>\n",
       "    <tr style=\"text-align: right;\">\n",
       "      <th></th>\n",
       "      <th>player</th>\n",
       "      <th>first_touch</th>\n",
       "      <th>open_goal</th>\n",
       "      <th>under_pressure</th>\n",
       "      <th>shot_technique</th>\n",
       "      <th>shot_body_part</th>\n",
       "      <th>statsbomb_xg</th>\n",
       "      <th>goal</th>\n",
       "      <th>aerial_shot</th>\n",
       "      <th>from_play</th>\n",
       "      <th>one_v_one</th>\n",
       "      <th>event_id</th>\n",
       "    </tr>\n",
       "  </thead>\n",
       "  <tbody>\n",
       "    <tr>\n",
       "      <th>0</th>\n",
       "      <td>Gonçalo Manuel Ganchinho Guedes</td>\n",
       "      <td>False</td>\n",
       "      <td>False</td>\n",
       "      <td>False</td>\n",
       "      <td>Normal</td>\n",
       "      <td>Right Foot</td>\n",
       "      <td>0.008752</td>\n",
       "      <td>False</td>\n",
       "      <td>True</td>\n",
       "      <td>Throw In</td>\n",
       "      <td>False</td>\n",
       "      <td>2258c11c-0916-4976-bfde-a66e89ffeb8d</td>\n",
       "    </tr>\n",
       "    <tr>\n",
       "      <th>1</th>\n",
       "      <td>Santiago Mina Lorenzo</td>\n",
       "      <td>False</td>\n",
       "      <td>False</td>\n",
       "      <td>False</td>\n",
       "      <td>Normal</td>\n",
       "      <td>Right Foot</td>\n",
       "      <td>0.053915</td>\n",
       "      <td>False</td>\n",
       "      <td>True</td>\n",
       "      <td>Free Kick</td>\n",
       "      <td>False</td>\n",
       "      <td>f0be7ddf-1e01-4315-aee1-8d5fda52a739</td>\n",
       "    </tr>\n",
       "    <tr>\n",
       "      <th>2</th>\n",
       "      <td>Jordi Alba Ramos</td>\n",
       "      <td>True</td>\n",
       "      <td>False</td>\n",
       "      <td>False</td>\n",
       "      <td>Normal</td>\n",
       "      <td>Left Foot</td>\n",
       "      <td>0.080842</td>\n",
       "      <td>False</td>\n",
       "      <td>True</td>\n",
       "      <td>Throw In</td>\n",
       "      <td>False</td>\n",
       "      <td>bb173d27-76c4-4044-b883-8bd6f8450cf2</td>\n",
       "    </tr>\n",
       "    <tr>\n",
       "      <th>3</th>\n",
       "      <td>Luis Alberto Suárez Díaz</td>\n",
       "      <td>True</td>\n",
       "      <td>False</td>\n",
       "      <td>False</td>\n",
       "      <td>Normal</td>\n",
       "      <td>Right Foot</td>\n",
       "      <td>0.456472</td>\n",
       "      <td>True</td>\n",
       "      <td>True</td>\n",
       "      <td>Throw In</td>\n",
       "      <td>False</td>\n",
       "      <td>7b02c827-3580-4149-9912-216ce2bd544f</td>\n",
       "    </tr>\n",
       "    <tr>\n",
       "      <th>4</th>\n",
       "      <td>Gonçalo Manuel Ganchinho Guedes</td>\n",
       "      <td>False</td>\n",
       "      <td>False</td>\n",
       "      <td>False</td>\n",
       "      <td>Normal</td>\n",
       "      <td>Right Foot</td>\n",
       "      <td>0.025283</td>\n",
       "      <td>False</td>\n",
       "      <td>True</td>\n",
       "      <td>Regular Play</td>\n",
       "      <td>False</td>\n",
       "      <td>3b15d864-8738-4cb1-8275-f94277570223</td>\n",
       "    </tr>\n",
       "    <tr>\n",
       "      <th>...</th>\n",
       "      <td>...</td>\n",
       "      <td>...</td>\n",
       "      <td>...</td>\n",
       "      <td>...</td>\n",
       "      <td>...</td>\n",
       "      <td>...</td>\n",
       "      <td>...</td>\n",
       "      <td>...</td>\n",
       "      <td>...</td>\n",
       "      <td>...</td>\n",
       "      <td>...</td>\n",
       "      <td>...</td>\n",
       "    </tr>\n",
       "    <tr>\n",
       "      <th>21772</th>\n",
       "      <td>Sjaak Swart</td>\n",
       "      <td>False</td>\n",
       "      <td>False</td>\n",
       "      <td>False</td>\n",
       "      <td>Normal</td>\n",
       "      <td>Head</td>\n",
       "      <td>0.034801</td>\n",
       "      <td>False</td>\n",
       "      <td>True</td>\n",
       "      <td>Free Kick</td>\n",
       "      <td>False</td>\n",
       "      <td>62130924-f82f-4772-a4ef-a11fecaa51c2</td>\n",
       "    </tr>\n",
       "    <tr>\n",
       "      <th>21773</th>\n",
       "      <td>Gerrie Mühren</td>\n",
       "      <td>True</td>\n",
       "      <td>False</td>\n",
       "      <td>False</td>\n",
       "      <td>Normal</td>\n",
       "      <td>Left Foot</td>\n",
       "      <td>0.060509</td>\n",
       "      <td>False</td>\n",
       "      <td>True</td>\n",
       "      <td>Regular Play</td>\n",
       "      <td>False</td>\n",
       "      <td>478faba8-6898-4d23-a74c-fa23672e5b50</td>\n",
       "    </tr>\n",
       "    <tr>\n",
       "      <th>21774</th>\n",
       "      <td>Roberto Boninsegna</td>\n",
       "      <td>False</td>\n",
       "      <td>False</td>\n",
       "      <td>True</td>\n",
       "      <td>Normal</td>\n",
       "      <td>Left Foot</td>\n",
       "      <td>0.036656</td>\n",
       "      <td>False</td>\n",
       "      <td>True</td>\n",
       "      <td>Regular Play</td>\n",
       "      <td>False</td>\n",
       "      <td>222ec97a-066c-4b4f-9bcf-afb4f842edf2</td>\n",
       "    </tr>\n",
       "    <tr>\n",
       "      <th>21775</th>\n",
       "      <td>Gianfranco Bedin</td>\n",
       "      <td>False</td>\n",
       "      <td>False</td>\n",
       "      <td>False</td>\n",
       "      <td>Normal</td>\n",
       "      <td>Left Foot</td>\n",
       "      <td>0.113855</td>\n",
       "      <td>False</td>\n",
       "      <td>True</td>\n",
       "      <td>Free Kick</td>\n",
       "      <td>False</td>\n",
       "      <td>70094b8a-f6a2-4b9a-8576-36fef59fe44a</td>\n",
       "    </tr>\n",
       "    <tr>\n",
       "      <th>21776</th>\n",
       "      <td>Johan Cruyff</td>\n",
       "      <td>False</td>\n",
       "      <td>False</td>\n",
       "      <td>False</td>\n",
       "      <td>Normal</td>\n",
       "      <td>Right Foot</td>\n",
       "      <td>0.084724</td>\n",
       "      <td>False</td>\n",
       "      <td>True</td>\n",
       "      <td>Regular Play</td>\n",
       "      <td>False</td>\n",
       "      <td>bd2a8d13-4c86-47b3-a8b0-98773a91fee2</td>\n",
       "    </tr>\n",
       "  </tbody>\n",
       "</table>\n",
       "<p>21777 rows × 12 columns</p>\n",
       "</div>"
      ],
      "text/plain": [
       "                                player  first_touch  open_goal  \\\n",
       "0      Gonçalo Manuel Ganchinho Guedes        False      False   \n",
       "1                Santiago Mina Lorenzo        False      False   \n",
       "2                     Jordi Alba Ramos         True      False   \n",
       "3             Luis Alberto Suárez Díaz         True      False   \n",
       "4      Gonçalo Manuel Ganchinho Guedes        False      False   \n",
       "...                                ...          ...        ...   \n",
       "21772                      Sjaak Swart        False      False   \n",
       "21773                    Gerrie Mühren         True      False   \n",
       "21774               Roberto Boninsegna        False      False   \n",
       "21775                 Gianfranco Bedin        False      False   \n",
       "21776                     Johan Cruyff        False      False   \n",
       "\n",
       "       under_pressure shot_technique shot_body_part  statsbomb_xg   goal  \\\n",
       "0               False         Normal     Right Foot      0.008752  False   \n",
       "1               False         Normal     Right Foot      0.053915  False   \n",
       "2               False         Normal      Left Foot      0.080842  False   \n",
       "3               False         Normal     Right Foot      0.456472   True   \n",
       "4               False         Normal     Right Foot      0.025283  False   \n",
       "...               ...            ...            ...           ...    ...   \n",
       "21772           False         Normal           Head      0.034801  False   \n",
       "21773           False         Normal      Left Foot      0.060509  False   \n",
       "21774            True         Normal      Left Foot      0.036656  False   \n",
       "21775           False         Normal      Left Foot      0.113855  False   \n",
       "21776           False         Normal     Right Foot      0.084724  False   \n",
       "\n",
       "       aerial_shot     from_play  one_v_one  \\\n",
       "0             True      Throw In      False   \n",
       "1             True     Free Kick      False   \n",
       "2             True      Throw In      False   \n",
       "3             True      Throw In      False   \n",
       "4             True  Regular Play      False   \n",
       "...            ...           ...        ...   \n",
       "21772         True     Free Kick      False   \n",
       "21773         True  Regular Play      False   \n",
       "21774         True  Regular Play      False   \n",
       "21775         True     Free Kick      False   \n",
       "21776         True  Regular Play      False   \n",
       "\n",
       "                                   event_id  \n",
       "0      2258c11c-0916-4976-bfde-a66e89ffeb8d  \n",
       "1      f0be7ddf-1e01-4315-aee1-8d5fda52a739  \n",
       "2      bb173d27-76c4-4044-b883-8bd6f8450cf2  \n",
       "3      7b02c827-3580-4149-9912-216ce2bd544f  \n",
       "4      3b15d864-8738-4cb1-8275-f94277570223  \n",
       "...                                     ...  \n",
       "21772  62130924-f82f-4772-a4ef-a11fecaa51c2  \n",
       "21773  478faba8-6898-4d23-a74c-fa23672e5b50  \n",
       "21774  222ec97a-066c-4b4f-9bcf-afb4f842edf2  \n",
       "21775  70094b8a-f6a2-4b9a-8576-36fef59fe44a  \n",
       "21776  bd2a8d13-4c86-47b3-a8b0-98773a91fee2  \n",
       "\n",
       "[21777 rows x 12 columns]"
      ]
     },
     "execution_count": 51,
     "metadata": {},
     "output_type": "execute_result"
    }
   ],
   "source": [
    "final_df"
   ]
  },
  {
   "cell_type": "markdown",
   "metadata": {},
   "source": [
    "# Export final DataFrame to Pickle file"
   ]
  },
  {
   "cell_type": "code",
   "execution_count": 52,
   "metadata": {},
   "outputs": [],
   "source": [
    "pd.to_pickle(\n",
    "    obj=final_df,\n",
    "    filepath_or_buffer=os.path.join(FINAL_DF,'final_df.pkl')\n",
    ")"
   ]
  },
  {
   "cell_type": "code",
   "execution_count": null,
   "metadata": {},
   "outputs": [],
   "source": []
  },
  {
   "cell_type": "code",
   "execution_count": null,
   "metadata": {},
   "outputs": [],
   "source": []
  }
 ],
 "metadata": {
  "kernelspec": {
   "display_name": "Python 3",
   "language": "python",
   "name": "python3"
  },
  "language_info": {
   "codemirror_mode": {
    "name": "ipython",
    "version": 3
   },
   "file_extension": ".py",
   "mimetype": "text/x-python",
   "name": "python",
   "nbconvert_exporter": "python",
   "pygments_lexer": "ipython3",
   "version": "3.9.13"
  }
 },
 "nbformat": 4,
 "nbformat_minor": 2
}
