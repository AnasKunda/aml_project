{
 "cells": [
  {
   "cell_type": "markdown",
   "metadata": {},
   "source": [
    "# This is the second step in project.\n",
    "\n",
    "Motivaton: Prepare data for baseline model training.\n",
    "\n",
    "Final output: one pickle file representing the final dataframe used for baseline model."
   ]
  },
  {
   "cell_type": "code",
   "execution_count": 6,
   "metadata": {},
   "outputs": [],
   "source": [
    "# import required libraries\n",
    "import os\n",
    "import pandas as pd\n",
    "import numpy as np"
   ]
  },
  {
   "cell_type": "code",
   "execution_count": 7,
   "metadata": {},
   "outputs": [],
   "source": [
    "# file paths\n",
    "ROOT = os.path.join(os.getcwd(), 'Statsbomb_data\\open-data-master')\n",
    "DATA = os.path.join(ROOT, 'data')\n",
    "FINAL_DF = os.path.join(ROOT,'final_dataframes')"
   ]
  },
  {
   "cell_type": "markdown",
   "metadata": {},
   "source": [
    "# Import Events dataframe\n",
    "\n",
    "I have selected features from events data to train baseline model."
   ]
  },
  {
   "cell_type": "code",
   "execution_count": 8,
   "metadata": {},
   "outputs": [
    {
     "data": {
      "text/html": [
       "<div>\n",
       "<style scoped>\n",
       "    .dataframe tbody tr th:only-of-type {\n",
       "        vertical-align: middle;\n",
       "    }\n",
       "\n",
       "    .dataframe tbody tr th {\n",
       "        vertical-align: top;\n",
       "    }\n",
       "\n",
       "    .dataframe thead th {\n",
       "        text-align: right;\n",
       "    }\n",
       "</style>\n",
       "<table border=\"1\" class=\"dataframe\">\n",
       "  <thead>\n",
       "    <tr style=\"text-align: right;\">\n",
       "      <th></th>\n",
       "      <th>id</th>\n",
       "      <th>index</th>\n",
       "      <th>period</th>\n",
       "      <th>timestamp</th>\n",
       "      <th>minute</th>\n",
       "      <th>second</th>\n",
       "      <th>type</th>\n",
       "      <th>possession</th>\n",
       "      <th>possession_team</th>\n",
       "      <th>play_pattern</th>\n",
       "      <th>...</th>\n",
       "      <th>player</th>\n",
       "      <th>position</th>\n",
       "      <th>location</th>\n",
       "      <th>duration</th>\n",
       "      <th>related_events</th>\n",
       "      <th>shot</th>\n",
       "      <th>match_id</th>\n",
       "      <th>under_pressure</th>\n",
       "      <th>out</th>\n",
       "      <th>off_camera</th>\n",
       "    </tr>\n",
       "  </thead>\n",
       "  <tbody>\n",
       "    <tr>\n",
       "      <th>0</th>\n",
       "      <td>682270cc-4bc4-4952-8f91-d3c5a704a691</td>\n",
       "      <td>153</td>\n",
       "      <td>1</td>\n",
       "      <td>00:02:33.865</td>\n",
       "      <td>2</td>\n",
       "      <td>33</td>\n",
       "      <td>{'id': 16, 'name': 'Shot'}</td>\n",
       "      <td>7</td>\n",
       "      <td>{'id': 24, 'name': 'Liverpool'}</td>\n",
       "      <td>{'id': 4, 'name': 'From Throw In'}</td>\n",
       "      <td>...</td>\n",
       "      <td>{'id': 3567, 'name': 'Georginio Wijnaldum'}</td>\n",
       "      <td>{'id': 13, 'name': 'Right Center Midfield'}</td>\n",
       "      <td>[98.1, 52.1]</td>\n",
       "      <td>0.134619</td>\n",
       "      <td>[5df2374f-5956-4ae5-a855-769c3d9bd8e9, 91c0ba0...</td>\n",
       "      <td>{'statsbomb_xg': 0.03639871, 'end_location': [...</td>\n",
       "      <td>18245</td>\n",
       "      <td>NaN</td>\n",
       "      <td>NaN</td>\n",
       "      <td>NaN</td>\n",
       "    </tr>\n",
       "    <tr>\n",
       "      <th>1</th>\n",
       "      <td>9f5aa3eb-3bed-4bc0-97a5-bb8444b235b9</td>\n",
       "      <td>245</td>\n",
       "      <td>1</td>\n",
       "      <td>00:05:14.065</td>\n",
       "      <td>5</td>\n",
       "      <td>14</td>\n",
       "      <td>{'id': 16, 'name': 'Shot'}</td>\n",
       "      <td>13</td>\n",
       "      <td>{'id': 24, 'name': 'Liverpool'}</td>\n",
       "      <td>{'id': 3, 'name': 'From Free Kick'}</td>\n",
       "      <td>...</td>\n",
       "      <td>{'id': 3531, 'name': 'Mohamed Salah'}</td>\n",
       "      <td>{'id': 17, 'name': 'Right Wing'}</td>\n",
       "      <td>[96.6, 51.5]</td>\n",
       "      <td>0.092997</td>\n",
       "      <td>[0801d693-6cd2-4565-b9f7-8e57215326dc, 4cc5f82...</td>\n",
       "      <td>{'statsbomb_xg': 0.027975515, 'end_location': ...</td>\n",
       "      <td>18245</td>\n",
       "      <td>True</td>\n",
       "      <td>NaN</td>\n",
       "      <td>NaN</td>\n",
       "    </tr>\n",
       "    <tr>\n",
       "      <th>2</th>\n",
       "      <td>399ac143-5f7b-4080-8c0b-3c18435d7fc1</td>\n",
       "      <td>398</td>\n",
       "      <td>1</td>\n",
       "      <td>00:07:56.816</td>\n",
       "      <td>7</td>\n",
       "      <td>56</td>\n",
       "      <td>{'id': 16, 'name': 'Shot'}</td>\n",
       "      <td>19</td>\n",
       "      <td>{'id': 24, 'name': 'Liverpool'}</td>\n",
       "      <td>{'id': 1, 'name': 'Regular Play'}</td>\n",
       "      <td>...</td>\n",
       "      <td>{'id': 3535, 'name': 'Roberto Firmino Barbosa ...</td>\n",
       "      <td>{'id': 23, 'name': 'Center Forward'}</td>\n",
       "      <td>[112.1, 30.6]</td>\n",
       "      <td>1.006248</td>\n",
       "      <td>[0ed95d27-7799-4809-94be-14b2af0e8199]</td>\n",
       "      <td>{'statsbomb_xg': 0.07536108, 'end_location': [...</td>\n",
       "      <td>18245</td>\n",
       "      <td>NaN</td>\n",
       "      <td>NaN</td>\n",
       "      <td>NaN</td>\n",
       "    </tr>\n",
       "    <tr>\n",
       "      <th>3</th>\n",
       "      <td>660d9d98-46b6-4b5e-9c9a-435d63142c93</td>\n",
       "      <td>467</td>\n",
       "      <td>1</td>\n",
       "      <td>00:10:02.932</td>\n",
       "      <td>10</td>\n",
       "      <td>2</td>\n",
       "      <td>{'id': 16, 'name': 'Shot'}</td>\n",
       "      <td>24</td>\n",
       "      <td>{'id': 220, 'name': 'Real Madrid'}</td>\n",
       "      <td>{'id': 3, 'name': 'From Free Kick'}</td>\n",
       "      <td>...</td>\n",
       "      <td>{'id': 5552, 'name': 'Marcelo Vieira da Silva ...</td>\n",
       "      <td>{'id': 6, 'name': 'Left Back'}</td>\n",
       "      <td>[94.5, 26.9]</td>\n",
       "      <td>1.301567</td>\n",
       "      <td>[9eee50d1-2956-4bd5-9417-4faa3cdcfec6]</td>\n",
       "      <td>{'statsbomb_xg': 0.023375953, 'end_location': ...</td>\n",
       "      <td>18245</td>\n",
       "      <td>NaN</td>\n",
       "      <td>NaN</td>\n",
       "      <td>NaN</td>\n",
       "    </tr>\n",
       "    <tr>\n",
       "      <th>4</th>\n",
       "      <td>fe6c7f60-2ff0-4077-882e-b045c8abc7c3</td>\n",
       "      <td>628</td>\n",
       "      <td>1</td>\n",
       "      <td>00:13:02.999</td>\n",
       "      <td>13</td>\n",
       "      <td>2</td>\n",
       "      <td>{'id': 16, 'name': 'Shot'}</td>\n",
       "      <td>28</td>\n",
       "      <td>{'id': 24, 'name': 'Liverpool'}</td>\n",
       "      <td>{'id': 3, 'name': 'From Free Kick'}</td>\n",
       "      <td>...</td>\n",
       "      <td>{'id': 3473, 'name': 'James Philip Milner'}</td>\n",
       "      <td>{'id': 15, 'name': 'Left Center Midfield'}</td>\n",
       "      <td>[101.2, 30.6]</td>\n",
       "      <td>0.054247</td>\n",
       "      <td>[62488dda-14cf-4155-90c2-a4231a54de32, 70c57f0...</td>\n",
       "      <td>{'statsbomb_xg': 0.0437719, 'end_location': [1...</td>\n",
       "      <td>18245</td>\n",
       "      <td>NaN</td>\n",
       "      <td>NaN</td>\n",
       "      <td>NaN</td>\n",
       "    </tr>\n",
       "  </tbody>\n",
       "</table>\n",
       "<p>5 rows × 21 columns</p>\n",
       "</div>"
      ],
      "text/plain": [
       "                                     id  index  period     timestamp  minute  \\\n",
       "0  682270cc-4bc4-4952-8f91-d3c5a704a691    153       1  00:02:33.865       2   \n",
       "1  9f5aa3eb-3bed-4bc0-97a5-bb8444b235b9    245       1  00:05:14.065       5   \n",
       "2  399ac143-5f7b-4080-8c0b-3c18435d7fc1    398       1  00:07:56.816       7   \n",
       "3  660d9d98-46b6-4b5e-9c9a-435d63142c93    467       1  00:10:02.932      10   \n",
       "4  fe6c7f60-2ff0-4077-882e-b045c8abc7c3    628       1  00:13:02.999      13   \n",
       "\n",
       "   second                        type  possession  \\\n",
       "0      33  {'id': 16, 'name': 'Shot'}           7   \n",
       "1      14  {'id': 16, 'name': 'Shot'}          13   \n",
       "2      56  {'id': 16, 'name': 'Shot'}          19   \n",
       "3       2  {'id': 16, 'name': 'Shot'}          24   \n",
       "4       2  {'id': 16, 'name': 'Shot'}          28   \n",
       "\n",
       "                      possession_team                         play_pattern  \\\n",
       "0     {'id': 24, 'name': 'Liverpool'}   {'id': 4, 'name': 'From Throw In'}   \n",
       "1     {'id': 24, 'name': 'Liverpool'}  {'id': 3, 'name': 'From Free Kick'}   \n",
       "2     {'id': 24, 'name': 'Liverpool'}    {'id': 1, 'name': 'Regular Play'}   \n",
       "3  {'id': 220, 'name': 'Real Madrid'}  {'id': 3, 'name': 'From Free Kick'}   \n",
       "4     {'id': 24, 'name': 'Liverpool'}  {'id': 3, 'name': 'From Free Kick'}   \n",
       "\n",
       "   ...                                             player  \\\n",
       "0  ...        {'id': 3567, 'name': 'Georginio Wijnaldum'}   \n",
       "1  ...              {'id': 3531, 'name': 'Mohamed Salah'}   \n",
       "2  ...  {'id': 3535, 'name': 'Roberto Firmino Barbosa ...   \n",
       "3  ...  {'id': 5552, 'name': 'Marcelo Vieira da Silva ...   \n",
       "4  ...        {'id': 3473, 'name': 'James Philip Milner'}   \n",
       "\n",
       "                                      position       location  duration  \\\n",
       "0  {'id': 13, 'name': 'Right Center Midfield'}   [98.1, 52.1]  0.134619   \n",
       "1             {'id': 17, 'name': 'Right Wing'}   [96.6, 51.5]  0.092997   \n",
       "2         {'id': 23, 'name': 'Center Forward'}  [112.1, 30.6]  1.006248   \n",
       "3               {'id': 6, 'name': 'Left Back'}   [94.5, 26.9]  1.301567   \n",
       "4   {'id': 15, 'name': 'Left Center Midfield'}  [101.2, 30.6]  0.054247   \n",
       "\n",
       "                                      related_events  \\\n",
       "0  [5df2374f-5956-4ae5-a855-769c3d9bd8e9, 91c0ba0...   \n",
       "1  [0801d693-6cd2-4565-b9f7-8e57215326dc, 4cc5f82...   \n",
       "2             [0ed95d27-7799-4809-94be-14b2af0e8199]   \n",
       "3             [9eee50d1-2956-4bd5-9417-4faa3cdcfec6]   \n",
       "4  [62488dda-14cf-4155-90c2-a4231a54de32, 70c57f0...   \n",
       "\n",
       "                                                shot match_id  under_pressure  \\\n",
       "0  {'statsbomb_xg': 0.03639871, 'end_location': [...    18245             NaN   \n",
       "1  {'statsbomb_xg': 0.027975515, 'end_location': ...    18245            True   \n",
       "2  {'statsbomb_xg': 0.07536108, 'end_location': [...    18245             NaN   \n",
       "3  {'statsbomb_xg': 0.023375953, 'end_location': ...    18245             NaN   \n",
       "4  {'statsbomb_xg': 0.0437719, 'end_location': [1...    18245             NaN   \n",
       "\n",
       "   out off_camera  \n",
       "0  NaN        NaN  \n",
       "1  NaN        NaN  \n",
       "2  NaN        NaN  \n",
       "3  NaN        NaN  \n",
       "4  NaN        NaN  \n",
       "\n",
       "[5 rows x 21 columns]"
      ]
     },
     "execution_count": 8,
     "metadata": {},
     "output_type": "execute_result"
    }
   ],
   "source": [
    "''' load pickle file of events data to a dataframe.\n",
    "\n",
    "Variables:-\n",
    "FINAL_DF - string - path containing all pickle files\n",
    "'''\n",
    "events_df = pd.read_pickle(\n",
    "    filepath_or_buffer=os.path.join(FINAL_DF,'events.pkl')\n",
    ")\n",
    "events_df.head()"
   ]
  },
  {
   "cell_type": "code",
   "execution_count": 9,
   "metadata": {},
   "outputs": [
    {
     "data": {
      "text/plain": [
       "Index(['id', 'index', 'period', 'timestamp', 'minute', 'second', 'type',\n",
       "       'possession', 'possession_team', 'play_pattern', 'team', 'player',\n",
       "       'position', 'location', 'duration', 'related_events', 'shot',\n",
       "       'match_id', 'under_pressure', 'out', 'off_camera'],\n",
       "      dtype='object')"
      ]
     },
     "execution_count": 9,
     "metadata": {},
     "output_type": "execute_result"
    }
   ],
   "source": [
    "''' All columns of events dataframe.\n",
    "\n",
    "Variables:-\n",
    "events_df - DataFrame - events dataframe\n",
    "'''\n",
    "events_df.columns"
   ]
  },
  {
   "cell_type": "code",
   "execution_count": 11,
   "metadata": {},
   "outputs": [],
   "source": [
    "''' Inititalizing a finalised dataframe for baseline model.\n",
    "\n",
    "Variables:-\n",
    "events_df - DataFrame - events dataframe\n",
    "'''\n",
    "\n",
    "final_df = pd.DataFrame()\n",
    "final_df['event_id'] = events_df['id']\n",
    "final_df['player'] = events_df['player'].str['name']"
   ]
  },
  {
   "cell_type": "code",
   "execution_count": 12,
   "metadata": {},
   "outputs": [
    {
     "name": "stdout",
     "output_type": "stream",
     "text": [
      "UNIQUE SHOT TYPES:\n",
      "\n"
     ]
    },
    {
     "data": {
      "text/plain": [
       "['Open Play', 'Free Kick', 'Penalty', 'Corner']"
      ]
     },
     "execution_count": 12,
     "metadata": {},
     "output_type": "execute_result"
    }
   ],
   "source": [
    "print(f\"UNIQUE SHOT TYPES:\\n\")\n",
    "[t for t in events_df['shot'].str['type'].str['name'].unique()]"
   ]
  },
  {
   "cell_type": "code",
   "execution_count": 13,
   "metadata": {},
   "outputs": [
    {
     "name": "stdout",
     "output_type": "stream",
     "text": [
      "UNIQUE SHOT TECHNIQUES:\n",
      "\n"
     ]
    },
    {
     "data": {
      "text/plain": [
       "['Normal',\n",
       " 'Volley',\n",
       " 'Half Volley',\n",
       " 'Overhead Kick',\n",
       " 'Diving Header',\n",
       " 'Backheel',\n",
       " 'Lob']"
      ]
     },
     "execution_count": 13,
     "metadata": {},
     "output_type": "execute_result"
    }
   ],
   "source": [
    "print(f\"UNIQUE SHOT TECHNIQUES:\\n\")\n",
    "[t for t in events_df['shot'].str['technique'].str['name'].unique()]"
   ]
  },
  {
   "cell_type": "code",
   "execution_count": 14,
   "metadata": {},
   "outputs": [
    {
     "name": "stdout",
     "output_type": "stream",
     "text": [
      "UNIQUE FIRST TIME:\n",
      "\n"
     ]
    },
    {
     "data": {
      "text/plain": [
       "[None, True]"
      ]
     },
     "execution_count": 14,
     "metadata": {},
     "output_type": "execute_result"
    }
   ],
   "source": [
    "print(f\"UNIQUE FIRST TIME:\\n\")\n",
    "[ft for ft in events_df['shot'].str['first_time'].unique()]"
   ]
  },
  {
   "cell_type": "code",
   "execution_count": 15,
   "metadata": {},
   "outputs": [],
   "source": [
    "''' Creating 6 additional features.\n",
    "\n",
    "first_touch - Boolean - whether the shot taken was from first touch or not.\n",
    "open_goal - Boolean - whether the goal post was not defended by at least one opponenet or was.\n",
    "under_pressure - Boolean - whether the shot taker was put under pressure by opponenets or not.\n",
    "shot_technique - category - technique of shooting\n",
    "shot_body_part - category - body part used for taking the shot\n",
    "statsbomb_xg - continuous - xG value provided by statsbomb.\n",
    "'''\n",
    "final_df['first_touch']=events_df['shot'].str['first_time'].fillna(False)\n",
    "final_df['open_goal']=events_df['shot'].str['open_goal'].fillna(False)\n",
    "final_df['under_pressure']=events_df['under_pressure'].fillna(False)\n",
    "final_df['shot_technique']=events_df['shot'].str['technique'].str['name']\n",
    "final_df['shot_body_part']=events_df['shot'].str['body_part'].str['name']\n",
    "final_df['statsbomb_xg']=events_df['shot'].str['statsbomb_xg']"
   ]
  },
  {
   "cell_type": "code",
   "execution_count": 16,
   "metadata": {},
   "outputs": [
    {
     "name": "stdout",
     "output_type": "stream",
     "text": [
      "UNIQUE SHOT OUTCOMES:\n",
      "\n"
     ]
    },
    {
     "data": {
      "text/plain": [
       "array(['Blocked', 'Off T', 'Saved', 'Post', 'Goal', 'Wayward',\n",
       "       'Saved to Post', 'Saved Off Target'], dtype=object)"
      ]
     },
     "execution_count": 16,
     "metadata": {},
     "output_type": "execute_result"
    }
   ],
   "source": [
    "print(f\"UNIQUE SHOT OUTCOMES:\\n\")\n",
    "events_df['shot'].str['outcome'].str['name'].unique()"
   ]
  },
  {
   "cell_type": "code",
   "execution_count": 17,
   "metadata": {},
   "outputs": [],
   "source": [
    "''' Creating target feature: goal. A boolean feature indicating True if the shot was converted to a goal.\n",
    "\n",
    "Variables:-\n",
    "events_df - DataFrame - events dataframe\n",
    "final_df - DataFrame - final dataframe for baseline model\n",
    "'''\n",
    "\n",
    "goal_mapping = {}\n",
    "for outcome in events_df['shot'].str['outcome'].str['name'].unique():\n",
    "    if outcome=='Goal':\n",
    "        goal_mapping[outcome] = True\n",
    "    else:\n",
    "        goal_mapping[outcome] = False\n",
    "        \n",
    "final_df['goal'] = events_df['shot'].str['outcome'].str['name'].map(goal_mapping)"
   ]
  },
  {
   "cell_type": "code",
   "execution_count": 18,
   "metadata": {},
   "outputs": [],
   "source": [
    "''' Feature Engineering: Aerial Shot.\n",
    "    A shot is considered to be the aerial shot if the end location of goal above the ground.\n",
    "    This is checked using x, y, z coordinates in events data. The z coordinate shows the distance from ground.\n",
    "    If z coordinate is greated than 0, means the ball was in the air.\n",
    "    \n",
    "    Variables:-\n",
    "    final_df - DataFrame - final dataframe for baseline model\n",
    "'''\n",
    "\n",
    "final_df['aerial_shot'] = np.where(events_df['shot'].str['end_location'].str[-1] > 0, True, False)"
   ]
  },
  {
   "cell_type": "code",
   "execution_count": 19,
   "metadata": {},
   "outputs": [
    {
     "name": "stdout",
     "output_type": "stream",
     "text": [
      "UNIQUE PLAY PATTERNS:\n",
      "\n"
     ]
    },
    {
     "data": {
      "text/plain": [
       "['From Throw In',\n",
       " 'From Free Kick',\n",
       " 'Regular Play',\n",
       " 'From Corner',\n",
       " 'From Goal Kick',\n",
       " 'From Counter',\n",
       " 'From Kick Off',\n",
       " 'From Keeper',\n",
       " 'Other']"
      ]
     },
     "execution_count": 19,
     "metadata": {},
     "output_type": "execute_result"
    }
   ],
   "source": [
    "print(\"UNIQUE PLAY PATTERNS:\\n\")\n",
    "[p for p in events_df.play_pattern.str['name'].unique()]"
   ]
  },
  {
   "cell_type": "code",
   "execution_count": 20,
   "metadata": {},
   "outputs": [],
   "source": [
    "''' Feature Engineering: Shot From Play.\n",
    "    A feature telling us which type was play was going right before the shot event. The play pattern from above cell are the values of this feature.\n",
    "    \n",
    "    Variables:-\n",
    "    from_play - Series - play_pattern column from events dataframe\n",
    "    events_df - DataFrame - events dataframe\n",
    "    final_df - DataFrame - final dataframe for baseline model\n",
    "'''\n",
    "\n",
    "from_play = events_df['play_pattern'].str['name'].str.partition('From ').drop(labels=1,axis=1)\n",
    "final_df['from_play'] = from_play.iloc[:,0] + from_play.iloc[:,1]"
   ]
  },
  {
   "cell_type": "code",
   "execution_count": 21,
   "metadata": {},
   "outputs": [],
   "source": [
    "''' Feature Engineering: 1v1. \n",
    "    The shot column in events dataframe is a dictionary, containing attributes of the shot. One such attribute is one_v_one.\n",
    "    \n",
    "    Variables:-\n",
    "    events_df - DataFrame - events dataframe\n",
    "'''\n",
    "\n",
    "final_df['one_v_one']=events_df['shot'].str['one_on_one'].fillna(False)"
   ]
  },
  {
   "cell_type": "code",
   "execution_count": 22,
   "metadata": {},
   "outputs": [
    {
     "data": {
      "text/html": [
       "<div>\n",
       "<style scoped>\n",
       "    .dataframe tbody tr th:only-of-type {\n",
       "        vertical-align: middle;\n",
       "    }\n",
       "\n",
       "    .dataframe tbody tr th {\n",
       "        vertical-align: top;\n",
       "    }\n",
       "\n",
       "    .dataframe thead th {\n",
       "        text-align: right;\n",
       "    }\n",
       "</style>\n",
       "<table border=\"1\" class=\"dataframe\">\n",
       "  <thead>\n",
       "    <tr style=\"text-align: right;\">\n",
       "      <th></th>\n",
       "      <th>event_id</th>\n",
       "      <th>player</th>\n",
       "      <th>first_touch</th>\n",
       "      <th>open_goal</th>\n",
       "      <th>under_pressure</th>\n",
       "      <th>shot_technique</th>\n",
       "      <th>shot_body_part</th>\n",
       "      <th>statsbomb_xg</th>\n",
       "      <th>goal</th>\n",
       "      <th>aerial_shot</th>\n",
       "      <th>from_play</th>\n",
       "      <th>one_v_one</th>\n",
       "    </tr>\n",
       "  </thead>\n",
       "  <tbody>\n",
       "    <tr>\n",
       "      <th>0</th>\n",
       "      <td>682270cc-4bc4-4952-8f91-d3c5a704a691</td>\n",
       "      <td>Georginio Wijnaldum</td>\n",
       "      <td>False</td>\n",
       "      <td>False</td>\n",
       "      <td>False</td>\n",
       "      <td>Normal</td>\n",
       "      <td>Right Foot</td>\n",
       "      <td>0.036399</td>\n",
       "      <td>False</td>\n",
       "      <td>True</td>\n",
       "      <td>Throw In</td>\n",
       "      <td>False</td>\n",
       "    </tr>\n",
       "    <tr>\n",
       "      <th>1</th>\n",
       "      <td>9f5aa3eb-3bed-4bc0-97a5-bb8444b235b9</td>\n",
       "      <td>Mohamed Salah</td>\n",
       "      <td>True</td>\n",
       "      <td>False</td>\n",
       "      <td>True</td>\n",
       "      <td>Normal</td>\n",
       "      <td>Left Foot</td>\n",
       "      <td>0.027976</td>\n",
       "      <td>False</td>\n",
       "      <td>True</td>\n",
       "      <td>Free Kick</td>\n",
       "      <td>False</td>\n",
       "    </tr>\n",
       "    <tr>\n",
       "      <th>2</th>\n",
       "      <td>399ac143-5f7b-4080-8c0b-3c18435d7fc1</td>\n",
       "      <td>Roberto Firmino Barbosa de Oliveira</td>\n",
       "      <td>False</td>\n",
       "      <td>False</td>\n",
       "      <td>False</td>\n",
       "      <td>Normal</td>\n",
       "      <td>Head</td>\n",
       "      <td>0.075361</td>\n",
       "      <td>False</td>\n",
       "      <td>True</td>\n",
       "      <td>Regular Play</td>\n",
       "      <td>False</td>\n",
       "    </tr>\n",
       "    <tr>\n",
       "      <th>3</th>\n",
       "      <td>660d9d98-46b6-4b5e-9c9a-435d63142c93</td>\n",
       "      <td>Marcelo Vieira da Silva Júnior</td>\n",
       "      <td>False</td>\n",
       "      <td>False</td>\n",
       "      <td>False</td>\n",
       "      <td>Normal</td>\n",
       "      <td>Left Foot</td>\n",
       "      <td>0.023376</td>\n",
       "      <td>False</td>\n",
       "      <td>True</td>\n",
       "      <td>Free Kick</td>\n",
       "      <td>False</td>\n",
       "    </tr>\n",
       "    <tr>\n",
       "      <th>4</th>\n",
       "      <td>fe6c7f60-2ff0-4077-882e-b045c8abc7c3</td>\n",
       "      <td>James Philip Milner</td>\n",
       "      <td>True</td>\n",
       "      <td>False</td>\n",
       "      <td>False</td>\n",
       "      <td>Normal</td>\n",
       "      <td>Left Foot</td>\n",
       "      <td>0.043772</td>\n",
       "      <td>False</td>\n",
       "      <td>True</td>\n",
       "      <td>Free Kick</td>\n",
       "      <td>False</td>\n",
       "    </tr>\n",
       "  </tbody>\n",
       "</table>\n",
       "</div>"
      ],
      "text/plain": [
       "                               event_id                               player  \\\n",
       "0  682270cc-4bc4-4952-8f91-d3c5a704a691                  Georginio Wijnaldum   \n",
       "1  9f5aa3eb-3bed-4bc0-97a5-bb8444b235b9                        Mohamed Salah   \n",
       "2  399ac143-5f7b-4080-8c0b-3c18435d7fc1  Roberto Firmino Barbosa de Oliveira   \n",
       "3  660d9d98-46b6-4b5e-9c9a-435d63142c93       Marcelo Vieira da Silva Júnior   \n",
       "4  fe6c7f60-2ff0-4077-882e-b045c8abc7c3                  James Philip Milner   \n",
       "\n",
       "   first_touch  open_goal  under_pressure shot_technique shot_body_part  \\\n",
       "0        False      False           False         Normal     Right Foot   \n",
       "1         True      False            True         Normal      Left Foot   \n",
       "2        False      False           False         Normal           Head   \n",
       "3        False      False           False         Normal      Left Foot   \n",
       "4         True      False           False         Normal      Left Foot   \n",
       "\n",
       "   statsbomb_xg   goal  aerial_shot     from_play  one_v_one  \n",
       "0      0.036399  False         True      Throw In      False  \n",
       "1      0.027976  False         True     Free Kick      False  \n",
       "2      0.075361  False         True  Regular Play      False  \n",
       "3      0.023376  False         True     Free Kick      False  \n",
       "4      0.043772  False         True     Free Kick      False  "
      ]
     },
     "execution_count": 22,
     "metadata": {},
     "output_type": "execute_result"
    }
   ],
   "source": [
    "final_df.head()"
   ]
  },
  {
   "cell_type": "code",
   "execution_count": 23,
   "metadata": {},
   "outputs": [
    {
     "data": {
      "text/plain": [
       "(21777, 12)"
      ]
     },
     "execution_count": 23,
     "metadata": {},
     "output_type": "execute_result"
    }
   ],
   "source": [
    "final_df.shape"
   ]
  },
  {
   "cell_type": "markdown",
   "metadata": {},
   "source": [
    "### Final data for baseline model\n",
    "\n",
    "The final dataframe contains 12 columns. Each row describes a shot event. There are total 21777 shots in the dataset."
   ]
  },
  {
   "cell_type": "markdown",
   "metadata": {},
   "source": [
    "# Export final DataFrame to Pickle file"
   ]
  },
  {
   "cell_type": "code",
   "execution_count": 24,
   "metadata": {},
   "outputs": [],
   "source": [
    "''' Final dataframe is imported by baseline_model file to train a model from this data.\n",
    "\n",
    "Variables:-\n",
    "final_df - DataFrame - final dataframe for baseline model\n",
    "FINAL_DF - string - path to the folder containing all pickle files\n",
    "'''\n",
    "\n",
    "pd.to_pickle(\n",
    "    obj=final_df,\n",
    "    filepath_or_buffer=os.path.join(FINAL_DF,'final_df.pkl')\n",
    ")"
   ]
  }
 ],
 "metadata": {
  "kernelspec": {
   "display_name": "Python 3",
   "language": "python",
   "name": "python3"
  },
  "language_info": {
   "codemirror_mode": {
    "name": "ipython",
    "version": 3
   },
   "file_extension": ".py",
   "mimetype": "text/x-python",
   "name": "python",
   "nbconvert_exporter": "python",
   "pygments_lexer": "ipython3",
   "version": "3.9.13"
  }
 },
 "nbformat": 4,
 "nbformat_minor": 2
}
